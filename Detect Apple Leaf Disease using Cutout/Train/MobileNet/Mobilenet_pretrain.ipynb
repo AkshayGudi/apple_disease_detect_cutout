{
  "nbformat": 4,
  "nbformat_minor": 0,
  "metadata": {
    "accelerator": "GPU",
    "colab": {
      "name": "apple_mobilenet_pretrain.ipynb",
      "provenance": [],
      "collapsed_sections": [
        "088RAVSFHFjA",
        "IduO2rOyMera",
        "9csusyFgOQZp",
        "I5FGdKR8psHY",
        "4qMpRCUEpsHY",
        "-iYn6AvIpsHZ",
        "oMgkaLV2psHa",
        "n0e9TmM4psHa",
        "EjzifAVMpsHb",
        "Pl7aiyzg6QHv",
        "Yee5f_N5Gz2i"
      ],
      "toc_visible": true
    },
    "kernelspec": {
      "display_name": "Python 3",
      "language": "python",
      "name": "python3"
    },
    "language_info": {
      "codemirror_mode": {
        "name": "ipython",
        "version": 3
      },
      "file_extension": ".py",
      "mimetype": "text/x-python",
      "name": "python",
      "nbconvert_exporter": "python",
      "pygments_lexer": "ipython3",
      "version": "3.7.3"
    }
  },
  "cells": [
    {
      "cell_type": "markdown",
      "metadata": {
        "id": "sjf1zF--Dx5O"
      },
      "source": [
        "#<h1><center><b> Apple MobileNet Pretrained disease </b></center></h1>"
      ]
    },
    {
      "cell_type": "markdown",
      "metadata": {
        "id": "088RAVSFHFjA"
      },
      "source": [
        "## Import"
      ]
    },
    {
      "cell_type": "code",
      "metadata": {
        "id": "f-TrJ0lVpsHS"
      },
      "source": [
        "import os, sys, pdb, shutil, time, random\n",
        "import argparse\n",
        "import torch\n",
        "import torch.backends.cudnn as cudnn\n",
        "import torchvision.datasets as dset\n",
        "import torchvision.transforms as transforms\n",
        "from tqdm import tqdm\n",
        "from torch.optim import lr_scheduler\n",
        "from torch.autograd import Variable\n",
        "from torch.utils.data import Dataset, DataLoader\n",
        "import torch.nn.functional as func\n",
        "import torchvision\n",
        "from torchvision import transforms, datasets, models\n",
        "from os.path import isfile, join, abspath, exists, isdir, expanduser\n",
        "from PIL import Image\n",
        "import pandas as pd\n",
        "import matplotlib.pyplot as plt\n",
        "from shutil import copyfile\n",
        "from os import listdir, makedirs, getcwd, remove\n",
        "from mpl_toolkits.axes_grid1 import ImageGrid\n",
        "import numpy as np\n",
        "\n",
        "import torch.nn as nn\n",
        "from torch.optim.lr_scheduler import MultiStepLR\n",
        "from torchvision.utils import make_grid\n",
        "from skimage import io"
      ],
      "execution_count": 1,
      "outputs": []
    },
    {
      "cell_type": "markdown",
      "metadata": {
        "id": "IduO2rOyMera"
      },
      "source": [
        "## 1.Download Dataset"
      ]
    },
    {
      "cell_type": "code",
      "metadata": {
        "id": "Jvp65q6dFetJ",
        "colab": {
          "resources": {
            "http://localhost:8080/nbextensions/google.colab/files.js": {
              "data": "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",
              "ok": true,
              "headers": [
                [
                  "content-type",
                  "application/javascript"
                ]
              ],
              "status": 200,
              "status_text": ""
            }
          },
          "base_uri": "https://localhost:8080/",
          "height": 342
        },
        "outputId": "7cea4080-d68a-40a6-855e-1690b22fad21"
      },
      "source": [
        "from google.colab import files\n",
        "files.upload()"
      ],
      "execution_count": 3,
      "outputs": [
        {
          "output_type": "display_data",
          "data": {
            "text/html": [
              "\n",
              "     <input type=\"file\" id=\"files-a0acc151-f97d-4961-82b4-d44fac44a212\" name=\"files[]\" multiple disabled\n",
              "        style=\"border:none\" />\n",
              "     <output id=\"result-a0acc151-f97d-4961-82b4-d44fac44a212\">\n",
              "      Upload widget is only available when the cell has been executed in the\n",
              "      current browser session. Please rerun this cell to enable.\n",
              "      </output>\n",
              "      <script src=\"/nbextensions/google.colab/files.js\"></script> "
            ],
            "text/plain": [
              "<IPython.core.display.HTML object>"
            ]
          },
          "metadata": {
            "tags": []
          }
        },
        {
          "output_type": "error",
          "ename": "KeyboardInterrupt",
          "evalue": "ignored",
          "traceback": [
            "\u001b[0;31m---------------------------------------------------------------------------\u001b[0m",
            "\u001b[0;31mKeyboardInterrupt\u001b[0m                         Traceback (most recent call last)",
            "\u001b[0;32m<ipython-input-3-5c2e8a8d365b>\u001b[0m in \u001b[0;36m<module>\u001b[0;34m()\u001b[0m\n\u001b[1;32m      1\u001b[0m \u001b[0;32mfrom\u001b[0m \u001b[0mgoogle\u001b[0m\u001b[0;34m.\u001b[0m\u001b[0mcolab\u001b[0m \u001b[0;32mimport\u001b[0m \u001b[0mfiles\u001b[0m\u001b[0;34m\u001b[0m\u001b[0;34m\u001b[0m\u001b[0m\n\u001b[0;32m----> 2\u001b[0;31m \u001b[0mfiles\u001b[0m\u001b[0;34m.\u001b[0m\u001b[0mupload\u001b[0m\u001b[0;34m(\u001b[0m\u001b[0;34m)\u001b[0m\u001b[0;34m\u001b[0m\u001b[0;34m\u001b[0m\u001b[0m\n\u001b[0m",
            "\u001b[0;32m/usr/local/lib/python3.7/dist-packages/google/colab/files.py\u001b[0m in \u001b[0;36mupload\u001b[0;34m()\u001b[0m\n\u001b[1;32m     62\u001b[0m   result = _output.eval_js(\n\u001b[1;32m     63\u001b[0m       'google.colab._files._uploadFiles(\"{input_id}\", \"{output_id}\")'.format(\n\u001b[0;32m---> 64\u001b[0;31m           input_id=input_id, output_id=output_id))\n\u001b[0m\u001b[1;32m     65\u001b[0m   \u001b[0mfiles\u001b[0m \u001b[0;34m=\u001b[0m \u001b[0m_collections\u001b[0m\u001b[0;34m.\u001b[0m\u001b[0mdefaultdict\u001b[0m\u001b[0;34m(\u001b[0m\u001b[0m_six\u001b[0m\u001b[0;34m.\u001b[0m\u001b[0mbinary_type\u001b[0m\u001b[0;34m)\u001b[0m\u001b[0;34m\u001b[0m\u001b[0;34m\u001b[0m\u001b[0m\n\u001b[1;32m     66\u001b[0m   \u001b[0;31m# Mapping from original filename to filename as saved locally.\u001b[0m\u001b[0;34m\u001b[0m\u001b[0;34m\u001b[0m\u001b[0;34m\u001b[0m\u001b[0m\n",
            "\u001b[0;32m/usr/local/lib/python3.7/dist-packages/google/colab/output/_js.py\u001b[0m in \u001b[0;36meval_js\u001b[0;34m(script, ignore_result, timeout_sec)\u001b[0m\n\u001b[1;32m     38\u001b[0m   \u001b[0;32mif\u001b[0m \u001b[0mignore_result\u001b[0m\u001b[0;34m:\u001b[0m\u001b[0;34m\u001b[0m\u001b[0;34m\u001b[0m\u001b[0m\n\u001b[1;32m     39\u001b[0m     \u001b[0;32mreturn\u001b[0m\u001b[0;34m\u001b[0m\u001b[0;34m\u001b[0m\u001b[0m\n\u001b[0;32m---> 40\u001b[0;31m   \u001b[0;32mreturn\u001b[0m \u001b[0m_message\u001b[0m\u001b[0;34m.\u001b[0m\u001b[0mread_reply_from_input\u001b[0m\u001b[0;34m(\u001b[0m\u001b[0mrequest_id\u001b[0m\u001b[0;34m,\u001b[0m \u001b[0mtimeout_sec\u001b[0m\u001b[0;34m)\u001b[0m\u001b[0;34m\u001b[0m\u001b[0;34m\u001b[0m\u001b[0m\n\u001b[0m\u001b[1;32m     41\u001b[0m \u001b[0;34m\u001b[0m\u001b[0m\n\u001b[1;32m     42\u001b[0m \u001b[0;34m\u001b[0m\u001b[0m\n",
            "\u001b[0;32m/usr/local/lib/python3.7/dist-packages/google/colab/_message.py\u001b[0m in \u001b[0;36mread_reply_from_input\u001b[0;34m(message_id, timeout_sec)\u001b[0m\n\u001b[1;32m     99\u001b[0m     \u001b[0mreply\u001b[0m \u001b[0;34m=\u001b[0m \u001b[0m_read_next_input_message\u001b[0m\u001b[0;34m(\u001b[0m\u001b[0;34m)\u001b[0m\u001b[0;34m\u001b[0m\u001b[0;34m\u001b[0m\u001b[0m\n\u001b[1;32m    100\u001b[0m     \u001b[0;32mif\u001b[0m \u001b[0mreply\u001b[0m \u001b[0;34m==\u001b[0m \u001b[0m_NOT_READY\u001b[0m \u001b[0;32mor\u001b[0m \u001b[0;32mnot\u001b[0m \u001b[0misinstance\u001b[0m\u001b[0;34m(\u001b[0m\u001b[0mreply\u001b[0m\u001b[0;34m,\u001b[0m \u001b[0mdict\u001b[0m\u001b[0;34m)\u001b[0m\u001b[0;34m:\u001b[0m\u001b[0;34m\u001b[0m\u001b[0;34m\u001b[0m\u001b[0m\n\u001b[0;32m--> 101\u001b[0;31m       \u001b[0mtime\u001b[0m\u001b[0;34m.\u001b[0m\u001b[0msleep\u001b[0m\u001b[0;34m(\u001b[0m\u001b[0;36m0.025\u001b[0m\u001b[0;34m)\u001b[0m\u001b[0;34m\u001b[0m\u001b[0;34m\u001b[0m\u001b[0m\n\u001b[0m\u001b[1;32m    102\u001b[0m       \u001b[0;32mcontinue\u001b[0m\u001b[0;34m\u001b[0m\u001b[0;34m\u001b[0m\u001b[0m\n\u001b[1;32m    103\u001b[0m     if (reply.get('type') == 'colab_reply' and\n",
            "\u001b[0;31mKeyboardInterrupt\u001b[0m: "
          ]
        }
      ]
    },
    {
      "cell_type": "code",
      "metadata": {
        "id": "-2iDom-tFeqH"
      },
      "source": [
        "!mkdir -p ~/.kaggle\n",
        "!cp kaggle.json ~/.kaggle\n",
        "!chmod 600 ~/.kaggle/kaggle.json"
      ],
      "execution_count": null,
      "outputs": []
    },
    {
      "cell_type": "code",
      "metadata": {
        "id": "_PxpFw4UFeGO"
      },
      "source": [
        "# !kaggle datasets download -d piantic/plantpathology-apple-dataset\r\n",
        "!kaggle datasets download -d akshaygudi/apple-leaf-disease"
      ],
      "execution_count": null,
      "outputs": []
    },
    {
      "cell_type": "code",
      "metadata": {
        "id": "9Ut4FeJ3GrDU"
      },
      "source": [
        "from zipfile import ZipFile\n",
        "filename = \"apple-leaf-disease.zip\"\n",
        "\n",
        "with ZipFile(filename,'r') as zip_dir:\n",
        "    zip_dir.extractall()\n",
        "    print(\"Done\")"
      ],
      "execution_count": null,
      "outputs": []
    },
    {
      "cell_type": "code",
      "metadata": {
        "id": "GfxBK6t7To_f"
      },
      "source": [
        "# !mkdir imag_data\n",
        "# !mv train.csv imag_data/\n",
        "# !mv images imag_data/"
      ],
      "execution_count": null,
      "outputs": []
    },
    {
      "cell_type": "code",
      "metadata": {
        "id": "1xRCekeFXcZ1"
      },
      "source": [
        "# from google.colab import files\n",
        "# uploaded = files.upload()"
      ],
      "execution_count": null,
      "outputs": []
    },
    {
      "cell_type": "code",
      "metadata": {
        "id": "6d29-S7GXmBD"
      },
      "source": [
        "# # !mv apple_train.csv imag_data/\n",
        "# # !mv apple_test.csv imag_data/\n",
        "\n",
        "# !mv test_data.csv imag_data/\n",
        "# !mv train_data.csv imag_data/"
      ],
      "execution_count": null,
      "outputs": []
    },
    {
      "cell_type": "markdown",
      "metadata": {
        "id": "9csusyFgOQZp"
      },
      "source": [
        "##<h2>2. Custom Dataset<h2>"
      ]
    },
    {
      "cell_type": "code",
      "metadata": {
        "id": "RUDcPIetPKDm"
      },
      "source": [
        "class MyDataset(Dataset):\n",
        "    \n",
        "    def __init__(self,csv_file,root_dir,transform=None):\n",
        "        self.annotations = pd.read_csv(csv_file)\n",
        "        self.root_dir = root_dir\n",
        "        self.transform = transform\n",
        "    \n",
        "    def __len__(self):\n",
        "        return len(self.annotations)\n",
        "    \n",
        "    def __getitem__(self,index):\n",
        "        img_path = os.path.join(self.root_dir,self.annotations.iloc[index,0])\n",
        "#         print(img_path)\n",
        "#         image = io.imread(img_path)\n",
        "        image = Image.open(img_path).convert('RGB')\n",
        "        ylabel = torch.tensor(int(self.annotations.iloc[index,-1]))\n",
        "        \n",
        "        if self.transform:\n",
        "            image = self.transform(image)\n",
        "        \n",
        "        return (image,ylabel)        "
      ],
      "execution_count": 2,
      "outputs": []
    },
    {
      "cell_type": "markdown",
      "metadata": {
        "id": "dcrRZsjkpsHX"
      },
      "source": [
        "## <h2>3. Initialization </h2>"
      ]
    },
    {
      "cell_type": "code",
      "metadata": {
        "colab": {
          "base_uri": "https://localhost:8080/"
        },
        "id": "stNo_6oMpsHX",
        "outputId": "0069f85c-6a32-44b3-ea49-6e33e4d5cc12"
      },
      "source": [
        "args = {}\n",
        "\n",
        "args[\"dataset\"] = \"apple\"\n",
        "args[\"model\"] = \"resnet18\"\n",
        "args[\"num_classes\"] =  4\n",
        "args[\"batch_size\"] = 36\n",
        "args[\"epochs\"] = 70\n",
        "args[\"learning_rate\"] = 0.01\n",
        "args[\"data_augmentation\"] = True\n",
        "args[\"cutout\"] = True\n",
        "args[\"n_holes\"] = 1\n",
        "args[\"length\"] = 20\n",
        "args[\"no_cuda\"] = False\n",
        "args[\"seed\"] = 0\n",
        "\n",
        "args[\"cuda\"] = not args[\"no_cuda\"] and torch.cuda.is_available()\n",
        "cudnn.benchmark = True  \n",
        "\n",
        "torch.manual_seed(args[\"seed\"])\n",
        "if args[\"cuda\"]:\n",
        "    torch.cuda.manual_seed(args[\"seed\"])\n",
        "\n",
        "test_id = args[\"dataset\"] + '_' + args[\"model\"]\n",
        "\n",
        "print(args)"
      ],
      "execution_count": 3,
      "outputs": [
        {
          "output_type": "stream",
          "text": [
            "{'dataset': 'apple', 'model': 'resnet18', 'num_classes': 4, 'batch_size': 36, 'epochs': 50, 'learning_rate': 0.01, 'data_augmentation': True, 'cutout': True, 'n_holes': 1, 'length': 20, 'no_cuda': False, 'seed': 0, 'cuda': True}\n"
          ],
          "name": "stdout"
        }
      ]
    },
    {
      "cell_type": "markdown",
      "metadata": {
        "id": "v4_qyOmCpsHY"
      },
      "source": [
        "## <h2>4. DataLoader and Transforms<h2>"
      ]
    },
    {
      "cell_type": "markdown",
      "metadata": {
        "id": "I5FGdKR8psHY"
      },
      "source": [
        "### <h3>4.1 Cutout Regularization</h3>"
      ]
    },
    {
      "cell_type": "code",
      "metadata": {
        "id": "yZvLlQc2psHY"
      },
      "source": [
        "class Cutout(object):\n",
        "    \"\"\"Randomly mask out one or more patches from an image.\n",
        "\n",
        "    Args:\n",
        "        n_holes (int): Number of patches to cut out of each image.\n",
        "        length (int): The length (in pixels) of each square patch.\n",
        "    \"\"\"\n",
        "    def __init__(self, n_holes, length):\n",
        "        self.n_holes = n_holes\n",
        "        self.length = length\n",
        "\n",
        "    def __call__(self, img):\n",
        "        \"\"\"\n",
        "        Args:\n",
        "            img (Tensor): Tensor image of size (C, H, W).\n",
        "        Returns:\n",
        "            Tensor: Image with n_holes of dimension length x length cut out of it.\n",
        "        \"\"\"\n",
        "        \n",
        "        h = img.size(1)\n",
        "        w = img.size(2)\n",
        "\n",
        "        mask = np.ones((h, w), np.float32)\n",
        "\n",
        "        for n in range(self.n_holes):\n",
        "            y = np.random.randint(h)\n",
        "            x = np.random.randint(w)\n",
        "\n",
        "            y1 = np.clip(y - self.length // 2, 0, h)\n",
        "            y2 = np.clip(y + self.length // 2, 0, h)\n",
        "            x1 = np.clip(x - self.length // 2, 0, w)\n",
        "            x2 = np.clip(x + self.length // 2, 0, w)\n",
        "\n",
        "            mask[y1: y2, x1: x2] = 0.\n",
        "\n",
        "        mask = torch.from_numpy(mask)\n",
        "        mask = mask.expand_as(img)\n",
        "        img = img * mask\n",
        "        \n",
        "        return img"
      ],
      "execution_count": 4,
      "outputs": []
    },
    {
      "cell_type": "markdown",
      "metadata": {
        "id": "4qMpRCUEpsHY"
      },
      "source": [
        "### <h3>4.2 Transform for Train Dataset</h3>"
      ]
    },
    {
      "cell_type": "code",
      "metadata": {
        "id": "JpAqaBEDpsHZ"
      },
      "source": [
        "normalize_train = transforms.Normalize(mean = [0.4066, 0.5148, 0.3226],\n",
        "                                      std=[0.2011, 0.1875, 0.1882])\n",
        "\n",
        "train_transform = transforms.Compose([])\n",
        "\n",
        "if args[\"data_augmentation\"]:\n",
        "    train_transform.transforms.append(transforms.RandomHorizontalFlip())\n",
        "\n",
        "train_transform.transforms.append(transforms.Resize((224,224)))\n",
        "train_transform.transforms.append(transforms.ToTensor())\n",
        "train_transform.transforms.append(normalize_train)\n",
        "\n",
        "\n",
        "if args[\"cutout\"]:\n",
        "    train_transform.transforms.append(Cutout(n_holes=args[\"n_holes\"], length=args[\"length\"]))"
      ],
      "execution_count": 6,
      "outputs": []
    },
    {
      "cell_type": "markdown",
      "metadata": {
        "id": "-iYn6AvIpsHZ"
      },
      "source": [
        "### <h3>4.3 Transform for Test Dataset</h3>"
      ]
    },
    {
      "cell_type": "code",
      "metadata": {
        "id": "fi68VKd1psHZ"
      },
      "source": [
        "normalize_test = transforms.Normalize(mean = [0.4047, 0.5141, 0.3240],\n",
        "                                     std=[0.2019, 0.1883, 0.1881])\n",
        "\n",
        "test_transform = transforms.Compose([])\n",
        "test_transform.transforms.append(transforms.Resize((224,224)))\n",
        "test_transform.transforms.append(transforms.ToTensor())\n",
        "test_transform.transforms.append(normalize_test)"
      ],
      "execution_count": 7,
      "outputs": []
    },
    {
      "cell_type": "markdown",
      "metadata": {
        "id": "oMgkaLV2psHa"
      },
      "source": [
        "### <h3>4.4 Create Data Loader</h3>"
      ]
    },
    {
      "cell_type": "code",
      "metadata": {
        "id": "_KPxZxNtpsHa"
      },
      "source": [
        "train_trans = train_transform\n",
        "valid_trans = test_transform\n",
        "\n",
        "\n",
        "train_set = MyDataset(csv_file=\"Apple_Leaf_Disease/train_data.csv\",root_dir=\"Apple_Leaf_Disease/images/\",transform=train_trans)\n",
        "valid_set = MyDataset(csv_file=\"Apple_Leaf_Disease/test_data.csv\",root_dir=\"Apple_Leaf_Disease/images/\",transform=valid_trans)\n",
        "\n",
        "        \n",
        "train_loader = DataLoader(train_set, batch_size=args[\"batch_size\"],shuffle=True)\n",
        "test_loader = DataLoader(valid_set, batch_size=args[\"batch_size\"], shuffle=False)\n",
        "\n",
        "dataset_sizes = {\n",
        "    'train': len(train_loader.dataset), \n",
        "    'valid': len(test_loader.dataset)\n",
        "}"
      ],
      "execution_count": 8,
      "outputs": []
    },
    {
      "cell_type": "code",
      "metadata": {
        "id": "fwgK4JBXpsHa"
      },
      "source": [
        "# i,j = train_set.__getitem__(2)"
      ],
      "execution_count": 9,
      "outputs": []
    },
    {
      "cell_type": "code",
      "metadata": {
        "id": "a46ycXymPKD-"
      },
      "source": [
        "# results = transforms.ToPILImage()(i)\n",
        "# results.show()"
      ],
      "execution_count": 10,
      "outputs": []
    },
    {
      "cell_type": "code",
      "metadata": {
        "id": "JLFD_tGvPKEA"
      },
      "source": [
        "# i.shape"
      ],
      "execution_count": 11,
      "outputs": []
    },
    {
      "cell_type": "markdown",
      "metadata": {
        "id": "cFsHdY6wpsHa"
      },
      "source": [
        "## <h2>5. MODELS</h2>"
      ]
    },
    {
      "cell_type": "markdown",
      "metadata": {
        "id": "n0e9TmM4psHa"
      },
      "source": [
        "### <h3>5.1 Test Resnet working</h3>"
      ]
    },
    {
      "cell_type": "code",
      "metadata": {
        "colab": {
          "base_uri": "https://localhost:8080/"
        },
        "id": "k8bX_haqpsHa",
        "outputId": "b6e81a34-014c-4e8f-804a-a42dd94d38d3"
      },
      "source": [
        "use_gpu = torch.cuda.is_available()\n",
        "\n",
        "mobilenet_v2_model = models.mobilenet_v2(pretrained=True)\n",
        "inputs, labels = next(iter(test_loader))\n",
        "if use_gpu:\n",
        "    mobilenet_v2_model = mobilenet_v2_model.cuda()\n",
        "    inputs, labels = Variable(inputs.cuda()), Variable(labels.cuda())   \n",
        "else:\n",
        "    inputs, labels = Variable(inputs), Variable(labels)\n",
        "outputs = mobilenet_v2_model(inputs)\n",
        "outputs.size()"
      ],
      "execution_count": 12,
      "outputs": [
        {
          "output_type": "execute_result",
          "data": {
            "text/plain": [
              "torch.Size([36, 1000])"
            ]
          },
          "metadata": {
            "tags": []
          },
          "execution_count": 12
        }
      ]
    },
    {
      "cell_type": "markdown",
      "metadata": {
        "id": "EjzifAVMpsHb"
      },
      "source": [
        "### <h3>5.2 Create Model</h3>"
      ]
    },
    {
      "cell_type": "code",
      "metadata": {
        "id": "_dFePgtMpsHb"
      },
      "source": [
        "cnn = models.mobilenet_v2(pretrained=True)\n",
        "args[\"num_classes\"] = 4\n",
        "\n",
        "# freeze all model parameters\n",
        "for param in cnn.parameters():\n",
        "    param.requires_grad = False\n",
        "\n",
        "# New final layer with 4 classes\n",
        "num_ftrs = cnn.classifier[1].in_features\n",
        "cnn.classifier = torch.nn.Sequential(nn.Dropout(p=0.2, inplace=False),nn.Linear(num_ftrs, args[\"num_classes\"], bias=True))\n",
        "# torch.nn.Linear(num_ftrs, args[\"num_classes\"])\n",
        "\n",
        "# cnn.classifier = torch.nn.Sequential(nn.Dropout(p=0.2, inplace=False),\n",
        "#                                      nn.Linear(num_ftrs,640),\n",
        "#                                      nn.Linear(640,320),\n",
        "#                                      nn.Linear(320,160),\n",
        "#                                      nn.Linear(160, args[\"num_classes\"], bias=True))\n",
        "\n",
        "if use_gpu:\n",
        "    cnn = cnn.cuda()\n",
        "\n",
        "\n",
        "criterion = nn.CrossEntropyLoss().cuda()\n",
        "cnn_optimizer = torch.optim.SGD(cnn.parameters(), lr=args[\"learning_rate\"],\n",
        "                                momentum=0.9, nesterov=True, weight_decay=5e-4)\n",
        "\n",
        "# cnn_optimizer = torch.optim.Adam(cnn.parameters(), lr=args[\"learning_rate\"])\n",
        "\n",
        "scheduler = MultiStepLR(cnn_optimizer, milestones=[5, 10], gamma=0.1)"
      ],
      "execution_count": 13,
      "outputs": []
    },
    {
      "cell_type": "markdown",
      "metadata": {
        "id": "sa6Ps2rp9FmS"
      },
      "source": [
        "## <h2>6. Training</h2>"
      ]
    },
    {
      "cell_type": "markdown",
      "metadata": {
        "id": "Pl7aiyzg6QHv",
        "outputId": "9bd98163-0057-4df3-e84f-250a1ccf1d00"
      },
      "source": [
        "### <h3>6.1 Test </h3>"
      ]
    },
    {
      "cell_type": "code",
      "metadata": {
        "id": "q30f9C0t9N65"
      },
      "source": [
        "def test(loader):\n",
        "    cnn.eval()\n",
        "    correct = 0.\n",
        "    total = 0.\n",
        "    for images, labels in loader:\n",
        "        images = images.cuda()\n",
        "        labels = labels.cuda()\n",
        "\n",
        "        with torch.no_grad():\n",
        "            pred = cnn(images)\n",
        "\n",
        "        pred = torch.max(pred.data, 1)[1]\n",
        "        total += labels.size(0)\n",
        "        correct += (pred == labels).sum().item()\n",
        "\n",
        "    val_acc = correct / total\n",
        "    cnn.train()\n",
        "    return val_acc"
      ],
      "execution_count": 14,
      "outputs": []
    },
    {
      "cell_type": "markdown",
      "metadata": {
        "id": "n3JObxOz6QHv"
      },
      "source": [
        "### <h3>6.2 Training </h3>"
      ]
    },
    {
      "cell_type": "code",
      "metadata": {
        "id": "QUaOGu4m6QHv"
      },
      "source": [
        "def train_model(num_epochs):\n",
        "\n",
        "  f = open(\"apple_cutout_mobilenet_1.txt\",\"a\")\n",
        "  for epoch in range(num_epochs):\n",
        "\n",
        "      xentropy_loss_avg = 0.\n",
        "      correct = 0.\n",
        "      total = 0.\n",
        "\n",
        "      progress_bar = tqdm(train_loader)\n",
        "      cou = 0\n",
        "      xentropy_loss_total = 0\n",
        "      for i, (images, labels) in enumerate(progress_bar):\n",
        "          progress_bar.set_description('Epoch ' + str(epoch))\n",
        "\n",
        "          images = images.cuda()\n",
        "          labels = labels.cuda()\n",
        "          \n",
        "          cnn.zero_grad()\n",
        "          pred = cnn(images)\n",
        "\n",
        "          xentropy_loss = criterion(pred, labels)\n",
        "          xentropy_loss.backward()\n",
        "          cnn_optimizer.step()\n",
        "\n",
        "          xentropy_loss_avg += xentropy_loss.item()\n",
        "          xentropy_loss_total += xentropy_loss.item()*len(images)\n",
        "          \n",
        "          # Calculate running average of accuracy\n",
        "          pred = torch.max(pred.data, 1)[1]\n",
        "          total += labels.size(0)\n",
        "          correct += (pred == labels.data).sum().item()\n",
        "          accuracy = correct / total\n",
        "\n",
        "          progress_bar.set_postfix(\n",
        "              xentropy='%.3f' % (xentropy_loss_avg / (i + 1)),\n",
        "              acc='%.3f' % accuracy)\n",
        "\n",
        "      test_acc = test(test_loader)\n",
        "      total_loss_val = xentropy_loss_total/len(train_loader.dataset)\n",
        "      tqdm.write('test_acc: %.3f' % (test_acc))\n",
        "      tqdm.write('total loss : %f' % (total_loss_val))\n",
        "\n",
        "      lr_rate = cnn_optimizer.state_dict()['param_groups'][0]['lr']\n",
        "      tqdm.write('Learning rate: %f' % (lr_rate))\n",
        "\n",
        "      r = \"epoch: \" + str(epoch) + \",  Train_acc: \" + str(accuracy) + \",  Test_acc:  \" + str(test_acc)\n",
        "\n",
        "      f.write(r)\n",
        "      f.write(\"\\n\")\n",
        "      scheduler.step()\n",
        "\n",
        "  f.close()\n",
        "\n",
        "  # files.download('apple_cutout_mobilenet_1.txt')"
      ],
      "execution_count": 15,
      "outputs": []
    },
    {
      "cell_type": "code",
      "metadata": {
        "colab": {
          "base_uri": "https://localhost:8080/"
        },
        "id": "Y2cgjOPzVvcw",
        "outputId": "ae7d4a22-3b0c-44e6-db20-e478d60512e6"
      },
      "source": [
        "num_epochs = 15\r\n",
        "train_model(num_epochs)"
      ],
      "execution_count": 17,
      "outputs": [
        {
          "output_type": "stream",
          "text": [
            "Epoch 0: 100%|██████████| 71/71 [02:02<00:00,  1.73s/it, acc=0.749, xentropy=0.673]\n",
            "  0%|          | 0/71 [00:00<?, ?it/s]"
          ],
          "name": "stderr"
        },
        {
          "output_type": "stream",
          "text": [
            "test_acc: 0.816\n",
            "total loss : 0.673032\n",
            "Learning rate: 0.010000\n"
          ],
          "name": "stdout"
        },
        {
          "output_type": "stream",
          "text": [
            "Epoch 1: 100%|██████████| 71/71 [02:02<00:00,  1.73s/it, acc=0.820, xentropy=0.510]\n",
            "  0%|          | 0/71 [00:00<?, ?it/s]"
          ],
          "name": "stderr"
        },
        {
          "output_type": "stream",
          "text": [
            "test_acc: 0.829\n",
            "total loss : 0.509778\n",
            "Learning rate: 0.010000\n"
          ],
          "name": "stdout"
        },
        {
          "output_type": "stream",
          "text": [
            "Epoch 2: 100%|██████████| 71/71 [02:02<00:00,  1.73s/it, acc=0.839, xentropy=0.477]\n",
            "  0%|          | 0/71 [00:00<?, ?it/s]"
          ],
          "name": "stderr"
        },
        {
          "output_type": "stream",
          "text": [
            "test_acc: 0.807\n",
            "total loss : 0.476746\n",
            "Learning rate: 0.010000\n"
          ],
          "name": "stdout"
        },
        {
          "output_type": "stream",
          "text": [
            "Epoch 3: 100%|██████████| 71/71 [02:02<00:00,  1.73s/it, acc=0.833, xentropy=0.465]\n",
            "  0%|          | 0/71 [00:00<?, ?it/s]"
          ],
          "name": "stderr"
        },
        {
          "output_type": "stream",
          "text": [
            "test_acc: 0.844\n",
            "total loss : 0.464499\n",
            "Learning rate: 0.010000\n"
          ],
          "name": "stdout"
        },
        {
          "output_type": "stream",
          "text": [
            "Epoch 4: 100%|██████████| 71/71 [02:03<00:00,  1.74s/it, acc=0.831, xentropy=0.456]\n",
            "  0%|          | 0/71 [00:00<?, ?it/s]"
          ],
          "name": "stderr"
        },
        {
          "output_type": "stream",
          "text": [
            "test_acc: 0.832\n",
            "total loss : 0.455830\n",
            "Learning rate: 0.010000\n"
          ],
          "name": "stdout"
        },
        {
          "output_type": "stream",
          "text": [
            "Epoch 5: 100%|██████████| 71/71 [02:02<00:00,  1.73s/it, acc=0.859, xentropy=0.376]\n",
            "  0%|          | 0/71 [00:00<?, ?it/s]"
          ],
          "name": "stderr"
        },
        {
          "output_type": "stream",
          "text": [
            "test_acc: 0.848\n",
            "total loss : 0.375876\n",
            "Learning rate: 0.001000\n"
          ],
          "name": "stdout"
        },
        {
          "output_type": "stream",
          "text": [
            "Epoch 6: 100%|██████████| 71/71 [02:02<00:00,  1.73s/it, acc=0.871, xentropy=0.364]\n",
            "  0%|          | 0/71 [00:00<?, ?it/s]"
          ],
          "name": "stderr"
        },
        {
          "output_type": "stream",
          "text": [
            "test_acc: 0.844\n",
            "total loss : 0.364048\n",
            "Learning rate: 0.001000\n"
          ],
          "name": "stdout"
        },
        {
          "output_type": "stream",
          "text": [
            "Epoch 7: 100%|██████████| 71/71 [02:02<00:00,  1.72s/it, acc=0.865, xentropy=0.367]\n",
            "  0%|          | 0/71 [00:00<?, ?it/s]"
          ],
          "name": "stderr"
        },
        {
          "output_type": "stream",
          "text": [
            "test_acc: 0.849\n",
            "total loss : 0.366799\n",
            "Learning rate: 0.001000\n"
          ],
          "name": "stdout"
        },
        {
          "output_type": "stream",
          "text": [
            "Epoch 8: 100%|██████████| 71/71 [02:02<00:00,  1.72s/it, acc=0.849, xentropy=0.384]\n",
            "  0%|          | 0/71 [00:00<?, ?it/s]"
          ],
          "name": "stderr"
        },
        {
          "output_type": "stream",
          "text": [
            "test_acc: 0.846\n",
            "total loss : 0.383735\n",
            "Learning rate: 0.001000\n"
          ],
          "name": "stdout"
        },
        {
          "output_type": "stream",
          "text": [
            "Epoch 9: 100%|██████████| 71/71 [02:02<00:00,  1.73s/it, acc=0.865, xentropy=0.383]\n",
            "  0%|          | 0/71 [00:00<?, ?it/s]"
          ],
          "name": "stderr"
        },
        {
          "output_type": "stream",
          "text": [
            "test_acc: 0.851\n",
            "total loss : 0.383064\n",
            "Learning rate: 0.001000\n"
          ],
          "name": "stdout"
        },
        {
          "output_type": "stream",
          "text": [
            "Epoch 10: 100%|██████████| 71/71 [02:02<00:00,  1.72s/it, acc=0.863, xentropy=0.360]\n",
            "  0%|          | 0/71 [00:00<?, ?it/s]"
          ],
          "name": "stderr"
        },
        {
          "output_type": "stream",
          "text": [
            "test_acc: 0.843\n",
            "total loss : 0.359524\n",
            "Learning rate: 0.000100\n"
          ],
          "name": "stdout"
        },
        {
          "output_type": "stream",
          "text": [
            "Epoch 11: 100%|██████████| 71/71 [02:02<00:00,  1.73s/it, acc=0.869, xentropy=0.360]\n",
            "  0%|          | 0/71 [00:00<?, ?it/s]"
          ],
          "name": "stderr"
        },
        {
          "output_type": "stream",
          "text": [
            "test_acc: 0.844\n",
            "total loss : 0.361058\n",
            "Learning rate: 0.000100\n"
          ],
          "name": "stdout"
        },
        {
          "output_type": "stream",
          "text": [
            "Epoch 12: 100%|██████████| 71/71 [02:02<00:00,  1.73s/it, acc=0.873, xentropy=0.348]\n",
            "  0%|          | 0/71 [00:00<?, ?it/s]"
          ],
          "name": "stderr"
        },
        {
          "output_type": "stream",
          "text": [
            "test_acc: 0.849\n",
            "total loss : 0.347741\n",
            "Learning rate: 0.000100\n"
          ],
          "name": "stdout"
        },
        {
          "output_type": "stream",
          "text": [
            "Epoch 13: 100%|██████████| 71/71 [02:02<00:00,  1.73s/it, acc=0.864, xentropy=0.369]\n",
            "  0%|          | 0/71 [00:00<?, ?it/s]"
          ],
          "name": "stderr"
        },
        {
          "output_type": "stream",
          "text": [
            "test_acc: 0.852\n",
            "total loss : 0.368942\n",
            "Learning rate: 0.000100\n"
          ],
          "name": "stdout"
        },
        {
          "output_type": "stream",
          "text": [
            "Epoch 14: 100%|██████████| 71/71 [02:02<00:00,  1.73s/it, acc=0.870, xentropy=0.347]\n"
          ],
          "name": "stderr"
        },
        {
          "output_type": "stream",
          "text": [
            "test_acc: 0.845\n",
            "total loss : 0.347258\n",
            "Learning rate: 0.000100\n"
          ],
          "name": "stdout"
        }
      ]
    },
    {
      "cell_type": "markdown",
      "metadata": {
        "id": "Yee5f_N5Gz2i"
      },
      "source": [
        "## <h1>Get Mean and Standard Deviation</h1>"
      ]
    },
    {
      "cell_type": "code",
      "metadata": {
        "id": "tgqoKnv0PKEN"
      },
      "source": [
        "#Var(x) = E(x**2) - E(x)**2\n",
        "import numpy as np\n",
        "\n",
        "\n",
        "def get_mean_std(loader):\n",
        "    channel_sum, channel_squared_sum, batches_val = 0, 0 ,0\n",
        "    for data, _ in loader:\n",
        "            channel_sum = channel_sum + torch.mean(data,dim=[0,2,3])\n",
        "            channel_squared_sum = channel_squared_sum + torch.mean(data**2,dim=[0,2,3])\n",
        "            batches_val = batches_val + 1\n",
        "#             print(\"==\",batches_val)\n",
        "    mean = channel_sum/batches_val\n",
        "    std =  (channel_squared_sum/batches_val - mean**2)**0.5\n",
        "    return mean,std \n",
        "\n",
        "m,s = get_mean_std(train_loader)\n",
        "print(m)\n",
        "print(s)"
      ],
      "execution_count": null,
      "outputs": []
    },
    {
      "cell_type": "markdown",
      "metadata": {
        "id": "UAJcAx0F9stq"
      },
      "source": [
        "## <h2>8. Unfreeze and Train</h2>"
      ]
    },
    {
      "cell_type": "code",
      "metadata": {
        "colab": {
          "base_uri": "https://localhost:8080/"
        },
        "id": "R7nXCf5y9xIm",
        "outputId": "ce3c3d0a-5014-40fe-97ec-23348948d59b"
      },
      "source": [
        "for name, child in cnn.named_children():\n",
        "    if name in ['features', 'classifier']:\n",
        "        print(name + ' is unfrozen')\n",
        "        for param in child.parameters():\n",
        "            param.requires_grad = True\n",
        "    else:\n",
        "        print(name + ' is frozen')\n",
        "        for param in child.parameters():\n",
        "            param.requires_grad = False"
      ],
      "execution_count": 18,
      "outputs": [
        {
          "output_type": "stream",
          "text": [
            "features is unfrozen\n",
            "classifier is unfrozen\n"
          ],
          "name": "stdout"
        }
      ]
    },
    {
      "cell_type": "code",
      "metadata": {
        "id": "5mtGdlEx9xMy"
      },
      "source": [
        "new_learning_rate = 0.01\n",
        "cnn_optimizer = torch.optim.SGD(filter(lambda p: p.requires_grad, cnn.parameters()), lr=new_learning_rate,\n",
        "                                momentum=0.9, nesterov=True, weight_decay=5e-4)\n",
        "\n",
        "# cnn_optimizer = torch.optim.Adam(filter(lambda p: p.requires_grad, cnn.parameters()), lr=new_learning_rate)\n",
        "\n",
        "\n",
        "scheduler = MultiStepLR(cnn_optimizer, milestones=[5,10,15], gamma=0.1)"
      ],
      "execution_count": 19,
      "outputs": []
    },
    {
      "cell_type": "code",
      "metadata": {
        "colab": {
          "base_uri": "https://localhost:8080/"
        },
        "id": "vmsHCt9ib5B_",
        "outputId": "e7c2bd63-f41d-4b56-e2dc-371f23b1de34"
      },
      "source": [
        "print(\"hello\")"
      ],
      "execution_count": 1,
      "outputs": [
        {
          "output_type": "stream",
          "text": [
            "hello\n"
          ],
          "name": "stdout"
        }
      ]
    },
    {
      "cell_type": "code",
      "metadata": {
        "colab": {
          "base_uri": "https://localhost:8080/"
        },
        "id": "5KSusCWmWvzM",
        "outputId": "616f238a-d399-46b2-aea2-fb4f38ebdef0"
      },
      "source": [
        "args[\"epochs\"] = 70\r\n",
        "train_model(args[\"epochs\"])"
      ],
      "execution_count": null,
      "outputs": [
        {
          "output_type": "stream",
          "text": [
            "Epoch 0: 100%|██████████| 71/71 [02:09<00:00,  1.82s/it, acc=0.823, xentropy=0.604]\n",
            "  0%|          | 0/71 [00:00<?, ?it/s]"
          ],
          "name": "stderr"
        },
        {
          "output_type": "stream",
          "text": [
            "test_acc: 0.842\n",
            "total loss : 0.601875\n",
            "Learning rate: 0.010000\n"
          ],
          "name": "stdout"
        },
        {
          "output_type": "stream",
          "text": [
            "Epoch 1: 100%|██████████| 71/71 [02:08<00:00,  1.81s/it, acc=0.914, xentropy=0.286]\n",
            "  0%|          | 0/71 [00:00<?, ?it/s]"
          ],
          "name": "stderr"
        },
        {
          "output_type": "stream",
          "text": [
            "test_acc: 0.800\n",
            "total loss : 0.285743\n",
            "Learning rate: 0.010000\n"
          ],
          "name": "stdout"
        },
        {
          "output_type": "stream",
          "text": [
            "Epoch 2: 100%|██████████| 71/71 [02:08<00:00,  1.82s/it, acc=0.929, xentropy=0.217]\n",
            "  0%|          | 0/71 [00:00<?, ?it/s]"
          ],
          "name": "stderr"
        },
        {
          "output_type": "stream",
          "text": [
            "test_acc: 0.909\n",
            "total loss : 0.216990\n",
            "Learning rate: 0.010000\n"
          ],
          "name": "stdout"
        },
        {
          "output_type": "stream",
          "text": [
            "Epoch 3: 100%|██████████| 71/71 [02:08<00:00,  1.82s/it, acc=0.940, xentropy=0.191]\n",
            "  0%|          | 0/71 [00:00<?, ?it/s]"
          ],
          "name": "stderr"
        },
        {
          "output_type": "stream",
          "text": [
            "test_acc: 0.924\n",
            "total loss : 0.190799\n",
            "Learning rate: 0.010000\n"
          ],
          "name": "stdout"
        },
        {
          "output_type": "stream",
          "text": [
            "Epoch 4: 100%|██████████| 71/71 [02:08<00:00,  1.81s/it, acc=0.943, xentropy=0.162]\n",
            "  0%|          | 0/71 [00:00<?, ?it/s]"
          ],
          "name": "stderr"
        },
        {
          "output_type": "stream",
          "text": [
            "test_acc: 0.931\n",
            "total loss : 0.162130\n",
            "Learning rate: 0.010000\n"
          ],
          "name": "stdout"
        },
        {
          "output_type": "stream",
          "text": [
            "Epoch 5: 100%|██████████| 71/71 [02:08<00:00,  1.81s/it, acc=0.965, xentropy=0.105]\n",
            "  0%|          | 0/71 [00:00<?, ?it/s]"
          ],
          "name": "stderr"
        },
        {
          "output_type": "stream",
          "text": [
            "test_acc: 0.943\n",
            "total loss : 0.104338\n",
            "Learning rate: 0.001000\n"
          ],
          "name": "stdout"
        },
        {
          "output_type": "stream",
          "text": [
            "Epoch 6: 100%|██████████| 71/71 [02:08<00:00,  1.81s/it, acc=0.971, xentropy=0.085]\n",
            "  0%|          | 0/71 [00:00<?, ?it/s]"
          ],
          "name": "stderr"
        },
        {
          "output_type": "stream",
          "text": [
            "test_acc: 0.951\n",
            "total loss : 0.085351\n",
            "Learning rate: 0.001000\n"
          ],
          "name": "stdout"
        },
        {
          "output_type": "stream",
          "text": [
            "Epoch 7: 100%|██████████| 71/71 [02:08<00:00,  1.81s/it, acc=0.978, xentropy=0.062]\n",
            "  0%|          | 0/71 [00:00<?, ?it/s]"
          ],
          "name": "stderr"
        },
        {
          "output_type": "stream",
          "text": [
            "test_acc: 0.943\n",
            "total loss : 0.062044\n",
            "Learning rate: 0.001000\n"
          ],
          "name": "stdout"
        },
        {
          "output_type": "stream",
          "text": [
            "Epoch 8: 100%|██████████| 71/71 [02:08<00:00,  1.81s/it, acc=0.978, xentropy=0.065]\n",
            "  0%|          | 0/71 [00:00<?, ?it/s]"
          ],
          "name": "stderr"
        },
        {
          "output_type": "stream",
          "text": [
            "test_acc: 0.944\n",
            "total loss : 0.065039\n",
            "Learning rate: 0.001000\n"
          ],
          "name": "stdout"
        },
        {
          "output_type": "stream",
          "text": [
            "Epoch 9: 100%|██████████| 71/71 [02:09<00:00,  1.83s/it, acc=0.985, xentropy=0.054]\n",
            "  0%|          | 0/71 [00:00<?, ?it/s]"
          ],
          "name": "stderr"
        },
        {
          "output_type": "stream",
          "text": [
            "test_acc: 0.952\n",
            "total loss : 0.054392\n",
            "Learning rate: 0.001000\n"
          ],
          "name": "stdout"
        },
        {
          "output_type": "stream",
          "text": [
            "Epoch 10: 100%|██████████| 71/71 [02:10<00:00,  1.84s/it, acc=0.986, xentropy=0.046]\n",
            "  0%|          | 0/71 [00:00<?, ?it/s]"
          ],
          "name": "stderr"
        },
        {
          "output_type": "stream",
          "text": [
            "test_acc: 0.952\n",
            "total loss : 0.045876\n",
            "Learning rate: 0.000100\n"
          ],
          "name": "stdout"
        },
        {
          "output_type": "stream",
          "text": [
            "Epoch 11: 100%|██████████| 71/71 [02:08<00:00,  1.82s/it, acc=0.987, xentropy=0.040]\n",
            "  0%|          | 0/71 [00:00<?, ?it/s]"
          ],
          "name": "stderr"
        },
        {
          "output_type": "stream",
          "text": [
            "test_acc: 0.951\n",
            "total loss : 0.039524\n",
            "Learning rate: 0.000100\n"
          ],
          "name": "stdout"
        },
        {
          "output_type": "stream",
          "text": [
            "Epoch 12: 100%|██████████| 71/71 [02:10<00:00,  1.84s/it, acc=0.984, xentropy=0.045]\n",
            "  0%|          | 0/71 [00:00<?, ?it/s]"
          ],
          "name": "stderr"
        },
        {
          "output_type": "stream",
          "text": [
            "test_acc: 0.949\n",
            "total loss : 0.045046\n",
            "Learning rate: 0.000100\n"
          ],
          "name": "stdout"
        },
        {
          "output_type": "stream",
          "text": [
            "Epoch 13: 100%|██████████| 71/71 [02:11<00:00,  1.86s/it, acc=0.986, xentropy=0.041]\n",
            "  0%|          | 0/71 [00:00<?, ?it/s]"
          ],
          "name": "stderr"
        },
        {
          "output_type": "stream",
          "text": [
            "test_acc: 0.952\n",
            "total loss : 0.041115\n",
            "Learning rate: 0.000100\n"
          ],
          "name": "stdout"
        },
        {
          "output_type": "stream",
          "text": [
            "Epoch 14: 100%|██████████| 71/71 [02:11<00:00,  1.86s/it, acc=0.988, xentropy=0.038]\n",
            "  0%|          | 0/71 [00:00<?, ?it/s]"
          ],
          "name": "stderr"
        },
        {
          "output_type": "stream",
          "text": [
            "test_acc: 0.948\n",
            "total loss : 0.037870\n",
            "Learning rate: 0.000100\n"
          ],
          "name": "stdout"
        },
        {
          "output_type": "stream",
          "text": [
            "Epoch 15: 100%|██████████| 71/71 [02:12<00:00,  1.86s/it, acc=0.988, xentropy=0.036]\n",
            "  0%|          | 0/71 [00:00<?, ?it/s]"
          ],
          "name": "stderr"
        },
        {
          "output_type": "stream",
          "text": [
            "test_acc: 0.950\n",
            "total loss : 0.035633\n",
            "Learning rate: 0.000010\n"
          ],
          "name": "stdout"
        },
        {
          "output_type": "stream",
          "text": [
            "Epoch 16: 100%|██████████| 71/71 [02:12<00:00,  1.86s/it, acc=0.989, xentropy=0.037]\n",
            "  0%|          | 0/71 [00:00<?, ?it/s]"
          ],
          "name": "stderr"
        },
        {
          "output_type": "stream",
          "text": [
            "test_acc: 0.951\n",
            "total loss : 0.037066\n",
            "Learning rate: 0.000010\n"
          ],
          "name": "stdout"
        },
        {
          "output_type": "stream",
          "text": [
            "Epoch 17: 100%|██████████| 71/71 [02:12<00:00,  1.87s/it, acc=0.988, xentropy=0.042]\n",
            "  0%|          | 0/71 [00:00<?, ?it/s]"
          ],
          "name": "stderr"
        },
        {
          "output_type": "stream",
          "text": [
            "test_acc: 0.951\n",
            "total loss : 0.042082\n",
            "Learning rate: 0.000010\n"
          ],
          "name": "stdout"
        },
        {
          "output_type": "stream",
          "text": [
            "Epoch 18: 100%|██████████| 71/71 [02:12<00:00,  1.87s/it, acc=0.990, xentropy=0.036]\n",
            "  0%|          | 0/71 [00:00<?, ?it/s]"
          ],
          "name": "stderr"
        },
        {
          "output_type": "stream",
          "text": [
            "test_acc: 0.953\n",
            "total loss : 0.035813\n",
            "Learning rate: 0.000010\n"
          ],
          "name": "stdout"
        },
        {
          "output_type": "stream",
          "text": [
            "Epoch 19: 100%|██████████| 71/71 [02:12<00:00,  1.87s/it, acc=0.988, xentropy=0.038]\n",
            "  0%|          | 0/71 [00:00<?, ?it/s]"
          ],
          "name": "stderr"
        },
        {
          "output_type": "stream",
          "text": [
            "test_acc: 0.951\n",
            "total loss : 0.037596\n",
            "Learning rate: 0.000010\n"
          ],
          "name": "stdout"
        },
        {
          "output_type": "stream",
          "text": [
            "Epoch 20: 100%|██████████| 71/71 [02:12<00:00,  1.87s/it, acc=0.987, xentropy=0.039]\n",
            "  0%|          | 0/71 [00:00<?, ?it/s]"
          ],
          "name": "stderr"
        },
        {
          "output_type": "stream",
          "text": [
            "test_acc: 0.951\n",
            "total loss : 0.039473\n",
            "Learning rate: 0.000010\n"
          ],
          "name": "stdout"
        },
        {
          "output_type": "stream",
          "text": [
            "Epoch 21: 100%|██████████| 71/71 [02:12<00:00,  1.86s/it, acc=0.987, xentropy=0.042]\n",
            "  0%|          | 0/71 [00:00<?, ?it/s]"
          ],
          "name": "stderr"
        },
        {
          "output_type": "stream",
          "text": [
            "test_acc: 0.952\n",
            "total loss : 0.042490\n",
            "Learning rate: 0.000010\n"
          ],
          "name": "stdout"
        },
        {
          "output_type": "stream",
          "text": [
            "Epoch 22: 100%|██████████| 71/71 [02:13<00:00,  1.88s/it, acc=0.990, xentropy=0.036]\n",
            "  0%|          | 0/71 [00:00<?, ?it/s]"
          ],
          "name": "stderr"
        },
        {
          "output_type": "stream",
          "text": [
            "test_acc: 0.949\n",
            "total loss : 0.036478\n",
            "Learning rate: 0.000010\n"
          ],
          "name": "stdout"
        },
        {
          "output_type": "stream",
          "text": [
            "Epoch 23: 100%|██████████| 71/71 [02:13<00:00,  1.87s/it, acc=0.986, xentropy=0.043]\n",
            "  0%|          | 0/71 [00:00<?, ?it/s]"
          ],
          "name": "stderr"
        },
        {
          "output_type": "stream",
          "text": [
            "test_acc: 0.946\n",
            "total loss : 0.042729\n",
            "Learning rate: 0.000010\n"
          ],
          "name": "stdout"
        },
        {
          "output_type": "stream",
          "text": [
            "Epoch 24: 100%|██████████| 71/71 [02:12<00:00,  1.87s/it, acc=0.989, xentropy=0.041]\n",
            "  0%|          | 0/71 [00:00<?, ?it/s]"
          ],
          "name": "stderr"
        },
        {
          "output_type": "stream",
          "text": [
            "test_acc: 0.947\n",
            "total loss : 0.041260\n",
            "Learning rate: 0.000010\n"
          ],
          "name": "stdout"
        },
        {
          "output_type": "stream",
          "text": [
            "Epoch 25: 100%|██████████| 71/71 [02:14<00:00,  1.89s/it, acc=0.987, xentropy=0.043]\n",
            "  0%|          | 0/71 [00:00<?, ?it/s]"
          ],
          "name": "stderr"
        },
        {
          "output_type": "stream",
          "text": [
            "test_acc: 0.952\n",
            "total loss : 0.042674\n",
            "Learning rate: 0.000010\n"
          ],
          "name": "stdout"
        },
        {
          "output_type": "stream",
          "text": [
            "Epoch 26: 100%|██████████| 71/71 [02:13<00:00,  1.87s/it, acc=0.984, xentropy=0.045]\n",
            "  0%|          | 0/71 [00:00<?, ?it/s]"
          ],
          "name": "stderr"
        },
        {
          "output_type": "stream",
          "text": [
            "test_acc: 0.950\n",
            "total loss : 0.044821\n",
            "Learning rate: 0.000010\n"
          ],
          "name": "stdout"
        },
        {
          "output_type": "stream",
          "text": [
            "Epoch 27: 100%|██████████| 71/71 [02:12<00:00,  1.87s/it, acc=0.984, xentropy=0.045]\n",
            "  0%|          | 0/71 [00:00<?, ?it/s]"
          ],
          "name": "stderr"
        },
        {
          "output_type": "stream",
          "text": [
            "test_acc: 0.950\n",
            "total loss : 0.045251\n",
            "Learning rate: 0.000010\n"
          ],
          "name": "stdout"
        },
        {
          "output_type": "stream",
          "text": [
            "Epoch 28: 100%|██████████| 71/71 [02:12<00:00,  1.87s/it, acc=0.989, xentropy=0.036]\n",
            "  0%|          | 0/71 [00:00<?, ?it/s]"
          ],
          "name": "stderr"
        },
        {
          "output_type": "stream",
          "text": [
            "test_acc: 0.953\n",
            "total loss : 0.036075\n",
            "Learning rate: 0.000010\n"
          ],
          "name": "stdout"
        },
        {
          "output_type": "stream",
          "text": [
            "Epoch 29: 100%|██████████| 71/71 [02:13<00:00,  1.87s/it, acc=0.987, xentropy=0.044]\n",
            "  0%|          | 0/71 [00:00<?, ?it/s]"
          ],
          "name": "stderr"
        },
        {
          "output_type": "stream",
          "text": [
            "test_acc: 0.951\n",
            "total loss : 0.044212\n",
            "Learning rate: 0.000010\n"
          ],
          "name": "stdout"
        },
        {
          "output_type": "stream",
          "text": [
            "Epoch 30: 100%|██████████| 71/71 [02:12<00:00,  1.87s/it, acc=0.985, xentropy=0.045]\n",
            "  0%|          | 0/71 [00:00<?, ?it/s]"
          ],
          "name": "stderr"
        },
        {
          "output_type": "stream",
          "text": [
            "test_acc: 0.953\n",
            "total loss : 0.044722\n",
            "Learning rate: 0.000010\n"
          ],
          "name": "stdout"
        },
        {
          "output_type": "stream",
          "text": [
            "Epoch 31: 100%|██████████| 71/71 [02:13<00:00,  1.88s/it, acc=0.987, xentropy=0.039]\n",
            "  0%|          | 0/71 [00:00<?, ?it/s]"
          ],
          "name": "stderr"
        },
        {
          "output_type": "stream",
          "text": [
            "test_acc: 0.951\n",
            "total loss : 0.039166\n",
            "Learning rate: 0.000010\n"
          ],
          "name": "stdout"
        },
        {
          "output_type": "stream",
          "text": [
            "Epoch 32: 100%|██████████| 71/71 [02:11<00:00,  1.85s/it, acc=0.988, xentropy=0.039]\n",
            "  0%|          | 0/71 [00:00<?, ?it/s]"
          ],
          "name": "stderr"
        },
        {
          "output_type": "stream",
          "text": [
            "test_acc: 0.948\n",
            "total loss : 0.038697\n",
            "Learning rate: 0.000010\n"
          ],
          "name": "stdout"
        },
        {
          "output_type": "stream",
          "text": [
            "Epoch 33: 100%|██████████| 71/71 [02:11<00:00,  1.85s/it, acc=0.990, xentropy=0.039]\n",
            "  0%|          | 0/71 [00:00<?, ?it/s]"
          ],
          "name": "stderr"
        },
        {
          "output_type": "stream",
          "text": [
            "test_acc: 0.950\n",
            "total loss : 0.039315\n",
            "Learning rate: 0.000010\n"
          ],
          "name": "stdout"
        },
        {
          "output_type": "stream",
          "text": [
            "Epoch 34: 100%|██████████| 71/71 [02:10<00:00,  1.84s/it, acc=0.984, xentropy=0.049]\n",
            "  0%|          | 0/71 [00:00<?, ?it/s]"
          ],
          "name": "stderr"
        },
        {
          "output_type": "stream",
          "text": [
            "test_acc: 0.948\n",
            "total loss : 0.049058\n",
            "Learning rate: 0.000010\n"
          ],
          "name": "stdout"
        },
        {
          "output_type": "stream",
          "text": [
            "Epoch 35: 100%|██████████| 71/71 [02:10<00:00,  1.84s/it, acc=0.987, xentropy=0.048]\n",
            "  0%|          | 0/71 [00:00<?, ?it/s]"
          ],
          "name": "stderr"
        },
        {
          "output_type": "stream",
          "text": [
            "test_acc: 0.951\n",
            "total loss : 0.047674\n",
            "Learning rate: 0.000010\n"
          ],
          "name": "stdout"
        },
        {
          "output_type": "stream",
          "text": [
            "Epoch 36: 100%|██████████| 71/71 [02:12<00:00,  1.86s/it, acc=0.984, xentropy=0.046]\n",
            "  0%|          | 0/71 [00:00<?, ?it/s]"
          ],
          "name": "stderr"
        },
        {
          "output_type": "stream",
          "text": [
            "test_acc: 0.950\n",
            "total loss : 0.046502\n",
            "Learning rate: 0.000010\n"
          ],
          "name": "stdout"
        },
        {
          "output_type": "stream",
          "text": [
            "Epoch 37: 100%|██████████| 71/71 [02:10<00:00,  1.84s/it, acc=0.985, xentropy=0.044]\n",
            "  0%|          | 0/71 [00:00<?, ?it/s]"
          ],
          "name": "stderr"
        },
        {
          "output_type": "stream",
          "text": [
            "test_acc: 0.951\n",
            "total loss : 0.043828\n",
            "Learning rate: 0.000010\n"
          ],
          "name": "stdout"
        },
        {
          "output_type": "stream",
          "text": [
            "Epoch 38: 100%|██████████| 71/71 [02:11<00:00,  1.85s/it, acc=0.985, xentropy=0.044]\n",
            "  0%|          | 0/71 [00:00<?, ?it/s]"
          ],
          "name": "stderr"
        },
        {
          "output_type": "stream",
          "text": [
            "test_acc: 0.947\n",
            "total loss : 0.044109\n",
            "Learning rate: 0.000010\n"
          ],
          "name": "stdout"
        },
        {
          "output_type": "stream",
          "text": [
            "Epoch 39: 100%|██████████| 71/71 [02:11<00:00,  1.85s/it, acc=0.987, xentropy=0.039]\n",
            "  0%|          | 0/71 [00:00<?, ?it/s]"
          ],
          "name": "stderr"
        },
        {
          "output_type": "stream",
          "text": [
            "test_acc: 0.952\n",
            "total loss : 0.038977\n",
            "Learning rate: 0.000010\n"
          ],
          "name": "stdout"
        },
        {
          "output_type": "stream",
          "text": [
            "Epoch 40: 100%|██████████| 71/71 [02:10<00:00,  1.84s/it, acc=0.986, xentropy=0.039]\n",
            "  0%|          | 0/71 [00:00<?, ?it/s]"
          ],
          "name": "stderr"
        },
        {
          "output_type": "stream",
          "text": [
            "test_acc: 0.949\n",
            "total loss : 0.039124\n",
            "Learning rate: 0.000010\n"
          ],
          "name": "stdout"
        },
        {
          "output_type": "stream",
          "text": [
            "Epoch 41: 100%|██████████| 71/71 [02:10<00:00,  1.84s/it, acc=0.991, xentropy=0.036]\n",
            "  0%|          | 0/71 [00:00<?, ?it/s]"
          ],
          "name": "stderr"
        },
        {
          "output_type": "stream",
          "text": [
            "test_acc: 0.949\n",
            "total loss : 0.035920\n",
            "Learning rate: 0.000010\n"
          ],
          "name": "stdout"
        },
        {
          "output_type": "stream",
          "text": [
            "Epoch 42: 100%|██████████| 71/71 [02:10<00:00,  1.84s/it, acc=0.985, xentropy=0.038]\n",
            "  0%|          | 0/71 [00:00<?, ?it/s]"
          ],
          "name": "stderr"
        },
        {
          "output_type": "stream",
          "text": [
            "test_acc: 0.950\n",
            "total loss : 0.038248\n",
            "Learning rate: 0.000010\n"
          ],
          "name": "stdout"
        },
        {
          "output_type": "stream",
          "text": [
            "Epoch 43: 100%|██████████| 71/71 [02:11<00:00,  1.85s/it, acc=0.987, xentropy=0.040]\n",
            "  0%|          | 0/71 [00:00<?, ?it/s]"
          ],
          "name": "stderr"
        },
        {
          "output_type": "stream",
          "text": [
            "test_acc: 0.952\n",
            "total loss : 0.040109\n",
            "Learning rate: 0.000010\n"
          ],
          "name": "stdout"
        },
        {
          "output_type": "stream",
          "text": [
            "Epoch 44: 100%|██████████| 71/71 [02:08<00:00,  1.82s/it, acc=0.989, xentropy=0.035]\n",
            "  0%|          | 0/71 [00:00<?, ?it/s]"
          ],
          "name": "stderr"
        },
        {
          "output_type": "stream",
          "text": [
            "test_acc: 0.947\n",
            "total loss : 0.035398\n",
            "Learning rate: 0.000010\n"
          ],
          "name": "stdout"
        },
        {
          "output_type": "stream",
          "text": [
            "Epoch 45: 100%|██████████| 71/71 [02:09<00:00,  1.82s/it, acc=0.987, xentropy=0.040]\n",
            "  0%|          | 0/71 [00:00<?, ?it/s]"
          ],
          "name": "stderr"
        },
        {
          "output_type": "stream",
          "text": [
            "test_acc: 0.951\n",
            "total loss : 0.039693\n",
            "Learning rate: 0.000010\n"
          ],
          "name": "stdout"
        },
        {
          "output_type": "stream",
          "text": [
            "Epoch 46: 100%|██████████| 71/71 [02:07<00:00,  1.79s/it, acc=0.986, xentropy=0.042]\n",
            "  0%|          | 0/71 [00:00<?, ?it/s]"
          ],
          "name": "stderr"
        },
        {
          "output_type": "stream",
          "text": [
            "test_acc: 0.950\n",
            "total loss : 0.042395\n",
            "Learning rate: 0.000010\n"
          ],
          "name": "stdout"
        },
        {
          "output_type": "stream",
          "text": [
            "Epoch 47: 100%|██████████| 71/71 [02:07<00:00,  1.79s/it, acc=0.986, xentropy=0.043]\n",
            "  0%|          | 0/71 [00:00<?, ?it/s]"
          ],
          "name": "stderr"
        },
        {
          "output_type": "stream",
          "text": [
            "test_acc: 0.950\n",
            "total loss : 0.043116\n",
            "Learning rate: 0.000010\n"
          ],
          "name": "stdout"
        },
        {
          "output_type": "stream",
          "text": [
            "Epoch 48: 100%|██████████| 71/71 [02:07<00:00,  1.80s/it, acc=0.987, xentropy=0.048]\n",
            "  0%|          | 0/71 [00:00<?, ?it/s]"
          ],
          "name": "stderr"
        },
        {
          "output_type": "stream",
          "text": [
            "test_acc: 0.953\n",
            "total loss : 0.047774\n",
            "Learning rate: 0.000010\n"
          ],
          "name": "stdout"
        },
        {
          "output_type": "stream",
          "text": [
            "Epoch 49: 100%|██████████| 71/71 [02:08<00:00,  1.81s/it, acc=0.986, xentropy=0.040]\n",
            "  0%|          | 0/71 [00:00<?, ?it/s]"
          ],
          "name": "stderr"
        },
        {
          "output_type": "stream",
          "text": [
            "test_acc: 0.951\n",
            "total loss : 0.039321\n",
            "Learning rate: 0.000010\n"
          ],
          "name": "stdout"
        },
        {
          "output_type": "stream",
          "text": [
            "Epoch 50: 100%|██████████| 71/71 [02:07<00:00,  1.80s/it, acc=0.988, xentropy=0.035]\n",
            "  0%|          | 0/71 [00:00<?, ?it/s]"
          ],
          "name": "stderr"
        },
        {
          "output_type": "stream",
          "text": [
            "test_acc: 0.949\n",
            "total loss : 0.034714\n",
            "Learning rate: 0.000010\n"
          ],
          "name": "stdout"
        },
        {
          "output_type": "stream",
          "text": [
            "Epoch 51: 100%|██████████| 71/71 [02:08<00:00,  1.80s/it, acc=0.989, xentropy=0.035]\n",
            "  0%|          | 0/71 [00:00<?, ?it/s]"
          ],
          "name": "stderr"
        },
        {
          "output_type": "stream",
          "text": [
            "test_acc: 0.952\n",
            "total loss : 0.034830\n",
            "Learning rate: 0.000010\n"
          ],
          "name": "stdout"
        },
        {
          "output_type": "stream",
          "text": [
            "Epoch 52: 100%|██████████| 71/71 [02:07<00:00,  1.80s/it, acc=0.989, xentropy=0.040]\n",
            "  0%|          | 0/71 [00:00<?, ?it/s]"
          ],
          "name": "stderr"
        },
        {
          "output_type": "stream",
          "text": [
            "test_acc: 0.951\n",
            "total loss : 0.039796\n",
            "Learning rate: 0.000010\n"
          ],
          "name": "stdout"
        },
        {
          "output_type": "stream",
          "text": [
            "Epoch 53: 100%|██████████| 71/71 [02:07<00:00,  1.80s/it, acc=0.984, xentropy=0.048]\n",
            "  0%|          | 0/71 [00:00<?, ?it/s]"
          ],
          "name": "stderr"
        },
        {
          "output_type": "stream",
          "text": [
            "test_acc: 0.951\n",
            "total loss : 0.047612\n",
            "Learning rate: 0.000010\n"
          ],
          "name": "stdout"
        },
        {
          "output_type": "stream",
          "text": [
            "Epoch 54: 100%|██████████| 71/71 [02:07<00:00,  1.80s/it, acc=0.987, xentropy=0.039]\n",
            "  0%|          | 0/71 [00:00<?, ?it/s]"
          ],
          "name": "stderr"
        },
        {
          "output_type": "stream",
          "text": [
            "test_acc: 0.951\n",
            "total loss : 0.038551\n",
            "Learning rate: 0.000010\n"
          ],
          "name": "stdout"
        },
        {
          "output_type": "stream",
          "text": [
            "Epoch 55: 100%|██████████| 71/71 [02:08<00:00,  1.81s/it, acc=0.986, xentropy=0.041]\n",
            "  0%|          | 0/71 [00:00<?, ?it/s]"
          ],
          "name": "stderr"
        },
        {
          "output_type": "stream",
          "text": [
            "test_acc: 0.946\n",
            "total loss : 0.040877\n",
            "Learning rate: 0.000010\n"
          ],
          "name": "stdout"
        },
        {
          "output_type": "stream",
          "text": [
            "Epoch 56: 100%|██████████| 71/71 [02:09<00:00,  1.82s/it, acc=0.987, xentropy=0.037]\n",
            "  0%|          | 0/71 [00:00<?, ?it/s]"
          ],
          "name": "stderr"
        },
        {
          "output_type": "stream",
          "text": [
            "test_acc: 0.949\n",
            "total loss : 0.037188\n",
            "Learning rate: 0.000010\n"
          ],
          "name": "stdout"
        },
        {
          "output_type": "stream",
          "text": [
            "Epoch 57: 100%|██████████| 71/71 [02:08<00:00,  1.81s/it, acc=0.987, xentropy=0.039]\n",
            "  0%|          | 0/71 [00:00<?, ?it/s]"
          ],
          "name": "stderr"
        },
        {
          "output_type": "stream",
          "text": [
            "test_acc: 0.949\n",
            "total loss : 0.039090\n",
            "Learning rate: 0.000010\n"
          ],
          "name": "stdout"
        },
        {
          "output_type": "stream",
          "text": [
            "Epoch 58: 100%|██████████| 71/71 [02:08<00:00,  1.81s/it, acc=0.988, xentropy=0.038]\n",
            "  0%|          | 0/71 [00:00<?, ?it/s]"
          ],
          "name": "stderr"
        },
        {
          "output_type": "stream",
          "text": [
            "test_acc: 0.947\n",
            "total loss : 0.038257\n",
            "Learning rate: 0.000010\n"
          ],
          "name": "stdout"
        },
        {
          "output_type": "stream",
          "text": [
            "Epoch 59: 100%|██████████| 71/71 [02:09<00:00,  1.83s/it, acc=0.986, xentropy=0.047]\n",
            "  0%|          | 0/71 [00:00<?, ?it/s]"
          ],
          "name": "stderr"
        },
        {
          "output_type": "stream",
          "text": [
            "test_acc: 0.950\n",
            "total loss : 0.046884\n",
            "Learning rate: 0.000010\n"
          ],
          "name": "stdout"
        },
        {
          "output_type": "stream",
          "text": [
            "Epoch 60: 100%|██████████| 71/71 [02:11<00:00,  1.85s/it, acc=0.986, xentropy=0.039]\n",
            "  0%|          | 0/71 [00:00<?, ?it/s]"
          ],
          "name": "stderr"
        },
        {
          "output_type": "stream",
          "text": [
            "test_acc: 0.950\n",
            "total loss : 0.039399\n",
            "Learning rate: 0.000010\n"
          ],
          "name": "stdout"
        },
        {
          "output_type": "stream",
          "text": [
            "Epoch 61: 100%|██████████| 71/71 [02:10<00:00,  1.83s/it, acc=0.989, xentropy=0.036]\n",
            "  0%|          | 0/71 [00:00<?, ?it/s]"
          ],
          "name": "stderr"
        },
        {
          "output_type": "stream",
          "text": [
            "test_acc: 0.949\n",
            "total loss : 0.035562\n",
            "Learning rate: 0.000010\n"
          ],
          "name": "stdout"
        },
        {
          "output_type": "stream",
          "text": [
            "Epoch 62: 100%|██████████| 71/71 [02:09<00:00,  1.83s/it, acc=0.986, xentropy=0.045]\n",
            "  0%|          | 0/71 [00:00<?, ?it/s]"
          ],
          "name": "stderr"
        },
        {
          "output_type": "stream",
          "text": [
            "test_acc: 0.948\n",
            "total loss : 0.045265\n",
            "Learning rate: 0.000010\n"
          ],
          "name": "stdout"
        },
        {
          "output_type": "stream",
          "text": [
            "Epoch 63: 100%|██████████| 71/71 [02:10<00:00,  1.84s/it, acc=0.987, xentropy=0.036]\n",
            "  0%|          | 0/71 [00:00<?, ?it/s]"
          ],
          "name": "stderr"
        },
        {
          "output_type": "stream",
          "text": [
            "test_acc: 0.951\n",
            "total loss : 0.036582\n",
            "Learning rate: 0.000010\n"
          ],
          "name": "stdout"
        },
        {
          "output_type": "stream",
          "text": [
            "Epoch 64: 100%|██████████| 71/71 [02:09<00:00,  1.83s/it, acc=0.987, xentropy=0.042]\n",
            "  0%|          | 0/71 [00:00<?, ?it/s]"
          ],
          "name": "stderr"
        }
      ]
    }
  ]
}