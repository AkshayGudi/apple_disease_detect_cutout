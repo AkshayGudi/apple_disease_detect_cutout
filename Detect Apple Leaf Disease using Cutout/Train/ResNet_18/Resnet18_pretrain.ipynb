{
  "nbformat": 4,
  "nbformat_minor": 0,
  "metadata": {
    "accelerator": "GPU",
    "colab": {
      "name": "apple_resnet18_pretrain.ipynb",
      "provenance": [],
      "collapsed_sections": [
        "088RAVSFHFjA",
        "IduO2rOyMera",
        "9csusyFgOQZp",
        "I5FGdKR8psHY",
        "4qMpRCUEpsHY",
        "-iYn6AvIpsHZ",
        "oMgkaLV2psHa",
        "n0e9TmM4psHa",
        "EjzifAVMpsHb",
        "Pl7aiyzg6QHv",
        "Yee5f_N5Gz2i"
      ],
      "toc_visible": true
    },
    "kernelspec": {
      "display_name": "Python 3",
      "language": "python",
      "name": "python3"
    },
    "language_info": {
      "codemirror_mode": {
        "name": "ipython",
        "version": 3
      },
      "file_extension": ".py",
      "mimetype": "text/x-python",
      "name": "python",
      "nbconvert_exporter": "python",
      "pygments_lexer": "ipython3",
      "version": "3.7.3"
    }
  },
  "cells": [
    {
      "cell_type": "markdown",
      "metadata": {
        "id": "sjf1zF--Dx5O"
      },
      "source": [
        "#<h1><center><b> Apple-disease Resnet18 Pretrained </b></center></h1>"
      ]
    },
    {
      "cell_type": "markdown",
      "metadata": {
        "id": "088RAVSFHFjA"
      },
      "source": [
        "## Import"
      ]
    },
    {
      "cell_type": "code",
      "metadata": {
        "id": "f-TrJ0lVpsHS"
      },
      "source": [
        "import os, sys, pdb, shutil, time, random\n",
        "import argparse\n",
        "import torch\n",
        "import torch.backends.cudnn as cudnn\n",
        "import torchvision.datasets as dset\n",
        "import torchvision.transforms as transforms\n",
        "from tqdm import tqdm\n",
        "from torch.optim import lr_scheduler\n",
        "from torch.autograd import Variable\n",
        "from torch.utils.data import Dataset, DataLoader\n",
        "import torch.nn.functional as func\n",
        "import torchvision\n",
        "from torchvision import transforms, datasets, models\n",
        "from os.path import isfile, join, abspath, exists, isdir, expanduser\n",
        "from PIL import Image\n",
        "import pandas as pd\n",
        "import matplotlib.pyplot as plt\n",
        "from shutil import copyfile\n",
        "from os import listdir, makedirs, getcwd, remove\n",
        "from mpl_toolkits.axes_grid1 import ImageGrid\n",
        "import numpy as np\n",
        "\n",
        "import torch.nn as nn\n",
        "from torch.optim.lr_scheduler import MultiStepLR\n",
        "from torchvision.utils import make_grid\n",
        "from skimage import io"
      ],
      "execution_count": 1,
      "outputs": []
    },
    {
      "cell_type": "markdown",
      "metadata": {
        "id": "IduO2rOyMera"
      },
      "source": [
        "## 1.Download Dataset"
      ]
    },
    {
      "cell_type": "code",
      "metadata": {
        "id": "Jvp65q6dFetJ"
      },
      "source": [
        "from google.colab import files\n",
        "files.upload()"
      ],
      "execution_count": 3,
      "outputs": []
    },
    {
      "cell_type": "code",
      "metadata": {
        "id": "-2iDom-tFeqH"
      },
      "source": [
        "!mkdir -p ~/.kaggle\n",
        "!cp kaggle.json ~/.kaggle\n",
        "!chmod 600 ~/.kaggle/kaggle.json"
      ],
      "execution_count": 4,
      "outputs": []
    },
    {
      "cell_type": "code",
      "metadata": {
        "colab": {
          "base_uri": "https://localhost:8080/"
        },
        "id": "_PxpFw4UFeGO",
        "outputId": "207994f3-1c57-4b75-80da-140ab4d580f4"
      },
      "source": [
        "!kaggle datasets download -d akshaygudi/apple-leaf-disease"
      ],
      "execution_count": 5,
      "outputs": [
        {
          "output_type": "stream",
          "text": [
            "Downloading apple-leaf-disease.zip to /content\n",
            " 97% 790M/813M [00:04<00:00, 113MB/s]\n",
            "100% 813M/813M [00:05<00:00, 170MB/s]\n"
          ],
          "name": "stdout"
        }
      ]
    },
    {
      "cell_type": "code",
      "metadata": {
        "id": "9Ut4FeJ3GrDU",
        "colab": {
          "base_uri": "https://localhost:8080/"
        },
        "outputId": "69fdf7f5-e297-490f-cdad-3d335db436e4"
      },
      "source": [
        "from zipfile import ZipFile\n",
        "filename = \"apple-leaf-disease.zip\"\n",
        "\n",
        "with ZipFile(filename,'r') as zip_dir:\n",
        "    zip_dir.extractall()\n",
        "    print(\"Done\")"
      ],
      "execution_count": 6,
      "outputs": [
        {
          "output_type": "stream",
          "text": [
            "Done\n"
          ],
          "name": "stdout"
        }
      ]
    },
    {
      "cell_type": "code",
      "metadata": {
        "id": "GfxBK6t7To_f"
      },
      "source": [
        "# !mkdir imag_data\n",
        "# !mv train.csv imag_data/\n",
        "# !mv images imag_data/"
      ],
      "execution_count": null,
      "outputs": []
    },
    {
      "cell_type": "code",
      "metadata": {
        "id": "1xRCekeFXcZ1"
      },
      "source": [
        "# from google.colab import files\n",
        "# uploaded = files.upload()"
      ],
      "execution_count": null,
      "outputs": []
    },
    {
      "cell_type": "code",
      "metadata": {
        "id": "6d29-S7GXmBD"
      },
      "source": [
        "# !mv test_data.csv imag_data/\n",
        "# !mv train_data.csv imag_data/"
      ],
      "execution_count": null,
      "outputs": []
    },
    {
      "cell_type": "markdown",
      "metadata": {
        "id": "9csusyFgOQZp"
      },
      "source": [
        "##<h2>3. Custom Dataset<h2>"
      ]
    },
    {
      "cell_type": "code",
      "metadata": {
        "id": "RUDcPIetPKDm"
      },
      "source": [
        "class MyDataset(Dataset):\n",
        "    \n",
        "    def __init__(self,csv_file,root_dir,transform=None):\n",
        "        self.annotations = pd.read_csv(csv_file)\n",
        "        self.root_dir = root_dir\n",
        "        self.transform = transform\n",
        "    \n",
        "    def __len__(self):\n",
        "        return len(self.annotations)\n",
        "    \n",
        "    def __getitem__(self,index):\n",
        "        img_path = os.path.join(self.root_dir,self.annotations.iloc[index,0])\n",
        "#         print(img_path)\n",
        "#         image = io.imread(img_path)\n",
        "        image = Image.open(img_path).convert('RGB')\n",
        "        ylabel = torch.tensor(int(self.annotations.iloc[index,-1]))\n",
        "        \n",
        "        if self.transform:\n",
        "            image = self.transform(image)\n",
        "        \n",
        "        return (image,ylabel)        "
      ],
      "execution_count": 2,
      "outputs": []
    },
    {
      "cell_type": "markdown",
      "metadata": {
        "id": "dcrRZsjkpsHX"
      },
      "source": [
        "## <h2>4. Initialization </h2>"
      ]
    },
    {
      "cell_type": "code",
      "metadata": {
        "colab": {
          "base_uri": "https://localhost:8080/"
        },
        "id": "stNo_6oMpsHX",
        "outputId": "55ca882a-bc50-4bdc-94db-5427064d634a"
      },
      "source": [
        "args = {}\n",
        "\n",
        "args[\"dataset\"] = \"apple\"\n",
        "args[\"model\"] = \"resnet18\"\n",
        "args[\"num_classes\"] =  4\n",
        "args[\"batch_size\"] = 36\n",
        "args[\"epochs\"] = 70\n",
        "args[\"learning_rate\"] = 0.01\n",
        "args[\"data_augmentation\"] = True\n",
        "args[\"cutout\"] = True\n",
        "args[\"n_holes\"] = 1\n",
        "args[\"length\"] = 16\n",
        "args[\"no_cuda\"] = False\n",
        "args[\"seed\"] = 0\n",
        "\n",
        "args[\"cuda\"] = not args[\"no_cuda\"] and torch.cuda.is_available()\n",
        "cudnn.benchmark = True  \n",
        "\n",
        "torch.manual_seed(args[\"seed\"])\n",
        "if args[\"cuda\"]:\n",
        "    torch.cuda.manual_seed(args[\"seed\"])\n",
        "\n",
        "test_id = args[\"dataset\"] + '_' + args[\"model\"]\n",
        "\n",
        "print(args)"
      ],
      "execution_count": 3,
      "outputs": [
        {
          "output_type": "stream",
          "text": [
            "{'dataset': 'apple', 'model': 'resnet18', 'num_classes': 4, 'batch_size': 36, 'epochs': 70, 'learning_rate': 0.01, 'data_augmentation': True, 'cutout': False, 'n_holes': 1, 'length': 16, 'no_cuda': False, 'seed': 0, 'cuda': True}\n"
          ],
          "name": "stdout"
        }
      ]
    },
    {
      "cell_type": "markdown",
      "metadata": {
        "id": "v4_qyOmCpsHY"
      },
      "source": [
        "## <h2>5. DataLoader and Transforms<h2>"
      ]
    },
    {
      "cell_type": "markdown",
      "metadata": {
        "id": "I5FGdKR8psHY"
      },
      "source": [
        "### <h3>5.1 Cutout Regularization</h3>"
      ]
    },
    {
      "cell_type": "code",
      "metadata": {
        "id": "yZvLlQc2psHY"
      },
      "source": [
        "class Cutout(object):\n",
        "    \"\"\"Randomly mask out one or more patches from an image.\n",
        "\n",
        "    Args:\n",
        "        n_holes (int): Number of patches to cut out of each image.\n",
        "        length (int): The length (in pixels) of each square patch.\n",
        "    \"\"\"\n",
        "    def __init__(self, n_holes, length):\n",
        "        self.n_holes = n_holes\n",
        "        self.length = length\n",
        "\n",
        "    def __call__(self, img):\n",
        "        \"\"\"\n",
        "        Args:\n",
        "            img (Tensor): Tensor image of size (C, H, W).\n",
        "        Returns:\n",
        "            Tensor: Image with n_holes of dimension length x length cut out of it.\n",
        "        \"\"\"\n",
        "        \n",
        "        h = img.size(1)\n",
        "        w = img.size(2)\n",
        "\n",
        "        mask = np.ones((h, w), np.float32)\n",
        "\n",
        "        for n in range(self.n_holes):\n",
        "            y = np.random.randint(h)\n",
        "            x = np.random.randint(w)\n",
        "\n",
        "            y1 = np.clip(y - self.length // 2, 0, h)\n",
        "            y2 = np.clip(y + self.length // 2, 0, h)\n",
        "            x1 = np.clip(x - self.length // 2, 0, w)\n",
        "            x2 = np.clip(x + self.length // 2, 0, w)\n",
        "\n",
        "            mask[y1: y2, x1: x2] = 0.\n",
        "\n",
        "        mask = torch.from_numpy(mask)\n",
        "        mask = mask.expand_as(img)\n",
        "        img = img * mask\n",
        "        \n",
        "        return img"
      ],
      "execution_count": 4,
      "outputs": []
    },
    {
      "cell_type": "markdown",
      "metadata": {
        "id": "4qMpRCUEpsHY"
      },
      "source": [
        "### <h3>5.2 Transform for Train Dataset</h3>"
      ]
    },
    {
      "cell_type": "code",
      "metadata": {
        "id": "JpAqaBEDpsHZ"
      },
      "source": [
        "normalize_train = transforms.Normalize(mean = [0.4066, 0.5148, 0.3226],\n",
        "                                      std=[0.2011, 0.1875, 0.1882])\n",
        "train_transform = transforms.Compose([])\n",
        "\n",
        "if args[\"data_augmentation\"]:\n",
        "    train_transform.transforms.append(transforms.RandomHorizontalFlip())\n",
        "\n",
        "train_transform.transforms.append(transforms.Resize((224,224)))\n",
        "train_transform.transforms.append(transforms.ToTensor())\n",
        "train_transform.transforms.append(normalize_train)\n",
        "\n",
        "\n",
        "if args[\"cutout\"]:\n",
        "    train_transform.transforms.append(Cutout(n_holes=args[\"n_holes\"], length=args[\"length\"]))"
      ],
      "execution_count": 5,
      "outputs": []
    },
    {
      "cell_type": "markdown",
      "metadata": {
        "id": "-iYn6AvIpsHZ"
      },
      "source": [
        "### <h3>5.3 Transform for Test Dataset</h3>"
      ]
    },
    {
      "cell_type": "code",
      "metadata": {
        "id": "fi68VKd1psHZ"
      },
      "source": [
        "normalize_test = transforms.Normalize(mean = [0.4047, 0.5141, 0.3240],\n",
        "                                     std=[0.2019, 0.1883, 0.1881])\n",
        "\n",
        "test_transform = transforms.Compose([])\n",
        "test_transform.transforms.append(transforms.Resize((224,224)))\n",
        "test_transform.transforms.append(transforms.ToTensor())\n",
        "test_transform.transforms.append(normalize_test)"
      ],
      "execution_count": 6,
      "outputs": []
    },
    {
      "cell_type": "markdown",
      "metadata": {
        "id": "oMgkaLV2psHa"
      },
      "source": [
        "### <h3>5.4 Create Data Loader</h3>"
      ]
    },
    {
      "cell_type": "code",
      "metadata": {
        "id": "_KPxZxNtpsHa"
      },
      "source": [
        "train_trans = train_transform\n",
        "valid_trans = test_transform\n",
        "\n",
        "\n",
        "train_set = MyDataset(csv_file=\"Apple_Leaf_Disease/train_data.csv\",root_dir=\"Apple_Leaf_Disease/images/\",transform=train_trans)\n",
        "valid_set = MyDataset(csv_file=\"Apple_Leaf_Disease/test_data.csv\",root_dir=\"Apple_Leaf_Disease/images/\",transform=valid_trans)\n",
        "\n",
        "        \n",
        "train_loader = DataLoader(train_set, batch_size=args[\"batch_size\"],shuffle=True)\n",
        "test_loader = DataLoader(valid_set, batch_size=args[\"batch_size\"], shuffle=False)\n",
        "\n",
        "dataset_sizes = {\n",
        "    'train': len(train_loader.dataset), \n",
        "    'valid': len(test_loader.dataset)\n",
        "}"
      ],
      "execution_count": 7,
      "outputs": []
    },
    {
      "cell_type": "code",
      "metadata": {
        "id": "fwgK4JBXpsHa"
      },
      "source": [
        "# i,j = train_set.__getitem__(2)"
      ],
      "execution_count": 8,
      "outputs": []
    },
    {
      "cell_type": "code",
      "metadata": {
        "id": "a46ycXymPKD-"
      },
      "source": [
        "# results = transforms.ToPILImage()(i)\n",
        "# results.show()"
      ],
      "execution_count": 9,
      "outputs": []
    },
    {
      "cell_type": "code",
      "metadata": {
        "id": "JLFD_tGvPKEA"
      },
      "source": [
        "# i.shape"
      ],
      "execution_count": 10,
      "outputs": []
    },
    {
      "cell_type": "markdown",
      "metadata": {
        "id": "cFsHdY6wpsHa"
      },
      "source": [
        "## <h2>6. MODELS</h2>"
      ]
    },
    {
      "cell_type": "markdown",
      "metadata": {
        "id": "n0e9TmM4psHa"
      },
      "source": [
        "### <h3>6.1 Test Resnet working</h3>"
      ]
    },
    {
      "cell_type": "code",
      "metadata": {
        "colab": {
          "base_uri": "https://localhost:8080/"
        },
        "id": "k8bX_haqpsHa",
        "outputId": "dfbcfe9e-a614-4017-d282-4398890e5287"
      },
      "source": [
        "use_gpu = torch.cuda.is_available()\n",
        "\n",
        "resnet_18_model = models.resnet18(pretrained=True)\n",
        "inputs, labels = next(iter(test_loader))\n",
        "if use_gpu:\n",
        "    resnet_18_model = resnet_18_model.cuda()\n",
        "    inputs, labels = Variable(inputs.cuda()), Variable(labels.cuda())   \n",
        "else:\n",
        "    inputs, labels = Variable(inputs), Variable(labels)\n",
        "outputs = resnet_18_model(inputs)\n",
        "outputs.size()"
      ],
      "execution_count": 11,
      "outputs": [
        {
          "output_type": "execute_result",
          "data": {
            "text/plain": [
              "torch.Size([36, 1000])"
            ]
          },
          "metadata": {
            "tags": []
          },
          "execution_count": 11
        }
      ]
    },
    {
      "cell_type": "markdown",
      "metadata": {
        "id": "EjzifAVMpsHb"
      },
      "source": [
        "### <h3>6.2 Create Model</h3>"
      ]
    },
    {
      "cell_type": "code",
      "metadata": {
        "colab": {
          "base_uri": "https://localhost:8080/"
        },
        "id": "_dFePgtMpsHb",
        "outputId": "6271f276-977d-4661-feef-05412a082f73"
      },
      "source": [
        "cnn = models.resnet18(pretrained=True)\n",
        "args[\"num_classes\"] = 4\n",
        "\n",
        "# freeze all model parameters\n",
        "for param in cnn.parameters():\n",
        "    param.requires_grad = False\n",
        "\n",
        "# New final layer with 4 classes\n",
        "num_ftrs = cnn.fc.in_features\n",
        "cnn.fc = torch.nn.Linear(num_ftrs, args[\"num_classes\"]) \n",
        "\n",
        "if use_gpu:\n",
        "    cnn = cnn.cuda()\n",
        "\n",
        "\n",
        "criterion = nn.CrossEntropyLoss().cuda()\n",
        "# cnn_optimizer = torch.optim.SGD(cnn.parameters(), lr=args[\"learning_rate\"],\n",
        "#                                 momentum=0.9, nesterov=True, weight_decay=5e-4)\n",
        "\n",
        "cnn_optimizer = torch.optim.Adam(cnn.parameters(), lr=args[\"learning_rate\"])\n",
        "\n",
        "scheduler = MultiStepLR(cnn_optimizer, milestones=[5, 10], gamma=0.1)\n",
        "print(\"Done - Configure Model\")"
      ],
      "execution_count": 12,
      "outputs": [
        {
          "output_type": "stream",
          "text": [
            "Done - Configure Model\n"
          ],
          "name": "stdout"
        }
      ]
    },
    {
      "cell_type": "markdown",
      "metadata": {
        "id": "sa6Ps2rp9FmS"
      },
      "source": [
        "## <h2>7. Training</h2>"
      ]
    },
    {
      "cell_type": "markdown",
      "metadata": {
        "id": "Pl7aiyzg6QHv",
        "outputId": "9bd98163-0057-4df3-e84f-250a1ccf1d00"
      },
      "source": [
        "### <h3>7.1 Test </h3>"
      ]
    },
    {
      "cell_type": "code",
      "metadata": {
        "id": "q30f9C0t9N65"
      },
      "source": [
        "def test(loader):\n",
        "    cnn.eval()\n",
        "    correct = 0.\n",
        "    total = 0.\n",
        "    for images, labels in loader:\n",
        "        images = images.cuda()\n",
        "        labels = labels.cuda()\n",
        "\n",
        "        with torch.no_grad():\n",
        "            pred = cnn(images)\n",
        "\n",
        "        pred = torch.max(pred.data, 1)[1]\n",
        "        total += labels.size(0)\n",
        "        correct += (pred == labels).sum().item()\n",
        "\n",
        "    val_acc = correct / total\n",
        "    cnn.train()\n",
        "    return val_acc"
      ],
      "execution_count": 13,
      "outputs": []
    },
    {
      "cell_type": "markdown",
      "metadata": {
        "id": "n3JObxOz6QHv"
      },
      "source": [
        "### <h3>7.2 Training </h3>"
      ]
    },
    {
      "cell_type": "code",
      "metadata": {
        "id": "QUaOGu4m6QHv"
      },
      "source": [
        "def train_model(num_epochs):\n",
        "  f = open(\"apple_resnet18_no_cutout_2.txt\",\"a\")\n",
        "  for epoch in range(num_epochs):\n",
        "\n",
        "      xentropy_loss_avg = 0.\n",
        "      correct = 0.\n",
        "      total = 0.\n",
        "\n",
        "      progress_bar = tqdm(train_loader)\n",
        "      cou = 0\n",
        "      xentropy_loss_total = 0\n",
        "      for i, (images, labels) in enumerate(progress_bar):\n",
        "          progress_bar.set_description('Epoch ' + str(epoch))\n",
        "\n",
        "          images = images.cuda()\n",
        "          labels = labels.cuda()\n",
        "                  \n",
        "          cnn.zero_grad()\n",
        "          pred = cnn(images)\n",
        "\n",
        "          xentropy_loss = criterion(pred, labels)\n",
        "          xentropy_loss.backward()\n",
        "          cnn_optimizer.step()\n",
        "\n",
        "          xentropy_loss_avg += xentropy_loss.item()\n",
        "          xentropy_loss_total += xentropy_loss.item()*len(images)\n",
        "          \n",
        "          # Calculate running average of accuracy\n",
        "          pred = torch.max(pred.data, 1)[1]\n",
        "          total += labels.size(0)\n",
        "          correct += (pred == labels.data).sum().item()\n",
        "          accuracy = correct / total\n",
        "\n",
        "          progress_bar.set_postfix(\n",
        "              xentropy='%.3f' % (xentropy_loss_avg / (i + 1)),\n",
        "              acc='%.3f' % accuracy)\n",
        "\n",
        "      tqdm.write(' Running Tests.. ')\n",
        "      test_acc = test(test_loader)\n",
        "      total_loss_val = xentropy_loss_total/len(train_loader.dataset)\n",
        "      tqdm.write('test_acc: %.3f' % (test_acc))\n",
        "      tqdm.write('total loss : %f' % (total_loss_val))\n",
        "\n",
        "      lr_rate = cnn_optimizer.state_dict()['param_groups'][0]['lr']\n",
        "      tqdm.write('Learning rate: %f' % (lr_rate))\n",
        "\n",
        "      r = \"epoch: \" + str(epoch) + \",  Train_acc: \" + str(accuracy) + \",  Test_acc:  \" + str(test_acc)\n",
        "\n",
        "      f.write(r)\n",
        "      f.write(\"\\n\")\n",
        "      scheduler.step()\n",
        "  f.close()\n",
        "\n",
        "  # files.download('apple_resnet18_no_cutout_1.txt')"
      ],
      "execution_count": 14,
      "outputs": []
    },
    {
      "cell_type": "code",
      "metadata": {
        "colab": {
          "base_uri": "https://localhost:8080/"
        },
        "id": "1q53vWx1fQqD",
        "outputId": "25bc8015-201b-4b35-918b-0773a2e3d169"
      },
      "source": [
        "num_epochs = 15\n",
        "train_model(num_epochs)"
      ],
      "execution_count": 15,
      "outputs": [
        {
          "output_type": "stream",
          "text": [
            "Epoch 0: 100%|██████████| 71/71 [02:19<00:00,  1.96s/it, acc=0.688, xentropy=0.945]\n"
          ],
          "name": "stderr"
        },
        {
          "output_type": "stream",
          "text": [
            " Running Tests.. \n"
          ],
          "name": "stdout"
        },
        {
          "output_type": "stream",
          "text": [
            "\r  0%|          | 0/71 [00:00<?, ?it/s]"
          ],
          "name": "stderr"
        },
        {
          "output_type": "stream",
          "text": [
            "test_acc: 0.804\n",
            "total loss : 0.943250\n",
            "Learning rate: 0.010000\n"
          ],
          "name": "stdout"
        },
        {
          "output_type": "stream",
          "text": [
            "Epoch 1: 100%|██████████| 71/71 [02:17<00:00,  1.94s/it, acc=0.767, xentropy=0.658]\n"
          ],
          "name": "stderr"
        },
        {
          "output_type": "stream",
          "text": [
            " Running Tests.. \n"
          ],
          "name": "stdout"
        },
        {
          "output_type": "stream",
          "text": [
            "\r  0%|          | 0/71 [00:00<?, ?it/s]"
          ],
          "name": "stderr"
        },
        {
          "output_type": "stream",
          "text": [
            "test_acc: 0.801\n",
            "total loss : 0.656698\n",
            "Learning rate: 0.010000\n"
          ],
          "name": "stdout"
        },
        {
          "output_type": "stream",
          "text": [
            "Epoch 2: 100%|██████████| 71/71 [02:17<00:00,  1.94s/it, acc=0.815, xentropy=0.526]\n"
          ],
          "name": "stderr"
        },
        {
          "output_type": "stream",
          "text": [
            " Running Tests.. \n"
          ],
          "name": "stdout"
        },
        {
          "output_type": "stream",
          "text": [
            "\r  0%|          | 0/71 [00:00<?, ?it/s]"
          ],
          "name": "stderr"
        },
        {
          "output_type": "stream",
          "text": [
            "test_acc: 0.823\n",
            "total loss : 0.526444\n",
            "Learning rate: 0.010000\n"
          ],
          "name": "stdout"
        },
        {
          "output_type": "stream",
          "text": [
            "Epoch 3: 100%|██████████| 71/71 [02:17<00:00,  1.93s/it, acc=0.814, xentropy=0.529]\n"
          ],
          "name": "stderr"
        },
        {
          "output_type": "stream",
          "text": [
            " Running Tests.. \n"
          ],
          "name": "stdout"
        },
        {
          "output_type": "stream",
          "text": [
            "\r  0%|          | 0/71 [00:00<?, ?it/s]"
          ],
          "name": "stderr"
        },
        {
          "output_type": "stream",
          "text": [
            "test_acc: 0.794\n",
            "total loss : 0.528737\n",
            "Learning rate: 0.010000\n"
          ],
          "name": "stdout"
        },
        {
          "output_type": "stream",
          "text": [
            "Epoch 4: 100%|██████████| 71/71 [02:16<00:00,  1.93s/it, acc=0.813, xentropy=0.501]\n"
          ],
          "name": "stderr"
        },
        {
          "output_type": "stream",
          "text": [
            " Running Tests.. \n"
          ],
          "name": "stdout"
        },
        {
          "output_type": "stream",
          "text": [
            "\r  0%|          | 0/71 [00:00<?, ?it/s]"
          ],
          "name": "stderr"
        },
        {
          "output_type": "stream",
          "text": [
            "test_acc: 0.760\n",
            "total loss : 0.500997\n",
            "Learning rate: 0.010000\n"
          ],
          "name": "stdout"
        },
        {
          "output_type": "stream",
          "text": [
            "Epoch 5: 100%|██████████| 71/71 [02:19<00:00,  1.97s/it, acc=0.868, xentropy=0.390]\n"
          ],
          "name": "stderr"
        },
        {
          "output_type": "stream",
          "text": [
            " Running Tests.. \n"
          ],
          "name": "stdout"
        },
        {
          "output_type": "stream",
          "text": [
            "\r  0%|          | 0/71 [00:00<?, ?it/s]"
          ],
          "name": "stderr"
        },
        {
          "output_type": "stream",
          "text": [
            "test_acc: 0.830\n",
            "total loss : 0.389441\n",
            "Learning rate: 0.001000\n"
          ],
          "name": "stdout"
        },
        {
          "output_type": "stream",
          "text": [
            "Epoch 6: 100%|██████████| 71/71 [02:18<00:00,  1.96s/it, acc=0.862, xentropy=0.376]\n"
          ],
          "name": "stderr"
        },
        {
          "output_type": "stream",
          "text": [
            " Running Tests.. \n"
          ],
          "name": "stdout"
        },
        {
          "output_type": "stream",
          "text": [
            "\r  0%|          | 0/71 [00:00<?, ?it/s]"
          ],
          "name": "stderr"
        },
        {
          "output_type": "stream",
          "text": [
            "test_acc: 0.822\n",
            "total loss : 0.375356\n",
            "Learning rate: 0.001000\n"
          ],
          "name": "stdout"
        },
        {
          "output_type": "stream",
          "text": [
            "Epoch 7: 100%|██████████| 71/71 [02:17<00:00,  1.94s/it, acc=0.864, xentropy=0.376]\n"
          ],
          "name": "stderr"
        },
        {
          "output_type": "stream",
          "text": [
            " Running Tests.. \n"
          ],
          "name": "stdout"
        },
        {
          "output_type": "stream",
          "text": [
            "\r  0%|          | 0/71 [00:00<?, ?it/s]"
          ],
          "name": "stderr"
        },
        {
          "output_type": "stream",
          "text": [
            "test_acc: 0.823\n",
            "total loss : 0.375821\n",
            "Learning rate: 0.001000\n"
          ],
          "name": "stdout"
        },
        {
          "output_type": "stream",
          "text": [
            "Epoch 8: 100%|██████████| 71/71 [02:17<00:00,  1.93s/it, acc=0.876, xentropy=0.362]\n"
          ],
          "name": "stderr"
        },
        {
          "output_type": "stream",
          "text": [
            " Running Tests.. \n"
          ],
          "name": "stdout"
        },
        {
          "output_type": "stream",
          "text": [
            "\r  0%|          | 0/71 [00:00<?, ?it/s]"
          ],
          "name": "stderr"
        },
        {
          "output_type": "stream",
          "text": [
            "test_acc: 0.823\n",
            "total loss : 0.361593\n",
            "Learning rate: 0.001000\n"
          ],
          "name": "stdout"
        },
        {
          "output_type": "stream",
          "text": [
            "Epoch 9: 100%|██████████| 71/71 [02:17<00:00,  1.93s/it, acc=0.864, xentropy=0.361]\n"
          ],
          "name": "stderr"
        },
        {
          "output_type": "stream",
          "text": [
            " Running Tests.. \n"
          ],
          "name": "stdout"
        },
        {
          "output_type": "stream",
          "text": [
            "\r  0%|          | 0/71 [00:00<?, ?it/s]"
          ],
          "name": "stderr"
        },
        {
          "output_type": "stream",
          "text": [
            "test_acc: 0.817\n",
            "total loss : 0.361182\n",
            "Learning rate: 0.001000\n"
          ],
          "name": "stdout"
        },
        {
          "output_type": "stream",
          "text": [
            "Epoch 10: 100%|██████████| 71/71 [02:17<00:00,  1.94s/it, acc=0.870, xentropy=0.350]\n"
          ],
          "name": "stderr"
        },
        {
          "output_type": "stream",
          "text": [
            " Running Tests.. \n"
          ],
          "name": "stdout"
        },
        {
          "output_type": "stream",
          "text": [
            "\r  0%|          | 0/71 [00:00<?, ?it/s]"
          ],
          "name": "stderr"
        },
        {
          "output_type": "stream",
          "text": [
            "test_acc: 0.824\n",
            "total loss : 0.350151\n",
            "Learning rate: 0.000100\n"
          ],
          "name": "stdout"
        },
        {
          "output_type": "stream",
          "text": [
            "Epoch 11: 100%|██████████| 71/71 [02:17<00:00,  1.93s/it, acc=0.870, xentropy=0.345]\n"
          ],
          "name": "stderr"
        },
        {
          "output_type": "stream",
          "text": [
            " Running Tests.. \n"
          ],
          "name": "stdout"
        },
        {
          "output_type": "stream",
          "text": [
            "\r  0%|          | 0/71 [00:00<?, ?it/s]"
          ],
          "name": "stderr"
        },
        {
          "output_type": "stream",
          "text": [
            "test_acc: 0.832\n",
            "total loss : 0.344822\n",
            "Learning rate: 0.000100\n"
          ],
          "name": "stdout"
        },
        {
          "output_type": "stream",
          "text": [
            "Epoch 12: 100%|██████████| 71/71 [02:17<00:00,  1.94s/it, acc=0.872, xentropy=0.358]\n"
          ],
          "name": "stderr"
        },
        {
          "output_type": "stream",
          "text": [
            " Running Tests.. \n"
          ],
          "name": "stdout"
        },
        {
          "output_type": "stream",
          "text": [
            "\r  0%|          | 0/71 [00:00<?, ?it/s]"
          ],
          "name": "stderr"
        },
        {
          "output_type": "stream",
          "text": [
            "test_acc: 0.827\n",
            "total loss : 0.358157\n",
            "Learning rate: 0.000100\n"
          ],
          "name": "stdout"
        },
        {
          "output_type": "stream",
          "text": [
            "Epoch 13: 100%|██████████| 71/71 [02:17<00:00,  1.94s/it, acc=0.868, xentropy=0.354]\n"
          ],
          "name": "stderr"
        },
        {
          "output_type": "stream",
          "text": [
            " Running Tests.. \n"
          ],
          "name": "stdout"
        },
        {
          "output_type": "stream",
          "text": [
            "\r  0%|          | 0/71 [00:00<?, ?it/s]"
          ],
          "name": "stderr"
        },
        {
          "output_type": "stream",
          "text": [
            "test_acc: 0.825\n",
            "total loss : 0.353890\n",
            "Learning rate: 0.000100\n"
          ],
          "name": "stdout"
        },
        {
          "output_type": "stream",
          "text": [
            "Epoch 14: 100%|██████████| 71/71 [02:17<00:00,  1.93s/it, acc=0.877, xentropy=0.347]\n"
          ],
          "name": "stderr"
        },
        {
          "output_type": "stream",
          "text": [
            " Running Tests.. \n",
            "test_acc: 0.824\n",
            "total loss : 0.345839\n",
            "Learning rate: 0.000100\n"
          ],
          "name": "stdout"
        }
      ]
    },
    {
      "cell_type": "markdown",
      "metadata": {
        "id": "Yee5f_N5Gz2i"
      },
      "source": [
        "## <h1>Get Mean and Standard Deviation</h1>"
      ]
    },
    {
      "cell_type": "code",
      "metadata": {
        "id": "tgqoKnv0PKEN"
      },
      "source": [
        "#Var(x) = E(x**2) - E(x)**2\n",
        "import numpy as np\n",
        "\n",
        "\n",
        "def get_mean_std(loader):\n",
        "    channel_sum, channel_squared_sum, batches_val = 0, 0 ,0\n",
        "    for data, _ in loader:\n",
        "            channel_sum = channel_sum + torch.mean(data,dim=[0,2,3])\n",
        "            channel_squared_sum = channel_squared_sum + torch.mean(data**2,dim=[0,2,3])\n",
        "            batches_val = batches_val + 1\n",
        "#             print(\"==\",batches_val)\n",
        "    mean = channel_sum/batches_val\n",
        "    std =  (channel_squared_sum/batches_val - mean**2)**0.5\n",
        "    return mean,std \n",
        "\n",
        "m,s = get_mean_std(train_loader)\n",
        "print(m)\n",
        "print(s)"
      ],
      "execution_count": null,
      "outputs": []
    },
    {
      "cell_type": "markdown",
      "metadata": {
        "id": "UAJcAx0F9stq"
      },
      "source": [
        "## <h2>8. Unfreeze and Train</h2>"
      ]
    },
    {
      "cell_type": "code",
      "metadata": {
        "colab": {
          "base_uri": "https://localhost:8080/"
        },
        "id": "R7nXCf5y9xIm",
        "outputId": "33e69089-134d-4162-91e9-904488c3c4b3"
      },
      "source": [
        "for name, child in cnn.named_children():\n",
        "    if name in ['layer3', 'layer4','avgpool','fc']:\n",
        "        print(name + ' is unfrozen')\n",
        "        for param in child.parameters():\n",
        "            param.requires_grad = True\n",
        "    else:\n",
        "        print(name + ' is frozen')\n",
        "        for param in child.parameters():\n",
        "            param.requires_grad = False"
      ],
      "execution_count": 16,
      "outputs": [
        {
          "output_type": "stream",
          "text": [
            "conv1 is frozen\n",
            "bn1 is frozen\n",
            "relu is frozen\n",
            "maxpool is frozen\n",
            "layer1 is frozen\n",
            "layer2 is frozen\n",
            "layer3 is unfrozen\n",
            "layer4 is unfrozen\n",
            "avgpool is unfrozen\n",
            "fc is unfrozen\n"
          ],
          "name": "stdout"
        }
      ]
    },
    {
      "cell_type": "code",
      "metadata": {
        "id": "5mtGdlEx9xMy"
      },
      "source": [
        "new_learning_rate = 0.01\n",
        "cnn_optimizer = torch.optim.Adam(filter(lambda p: p.requires_grad, cnn.parameters()), lr=new_learning_rate)\n",
        "\n",
        "scheduler = MultiStepLR(cnn_optimizer, milestones=[10, 15], gamma=0.1)"
      ],
      "execution_count": 17,
      "outputs": []
    },
    {
      "cell_type": "code",
      "metadata": {
        "id": "C_VD49fiTnU9",
        "colab": {
          "base_uri": "https://localhost:8080/"
        },
        "outputId": "67e467f1-7ab1-40df-f616-481da135387b"
      },
      "source": [
        "args[\"epochs\"] = 70\n",
        "train_model(args[\"epochs\"])"
      ],
      "execution_count": null,
      "outputs": [
        {
          "output_type": "stream",
          "text": [
            "Epoch 0: 100%|██████████| 71/71 [02:17<00:00,  1.93s/it, acc=0.870, xentropy=0.351]\n"
          ],
          "name": "stderr"
        },
        {
          "output_type": "stream",
          "text": [
            " Running Tests.. \n"
          ],
          "name": "stdout"
        },
        {
          "output_type": "stream",
          "text": [
            "\r  0%|          | 0/71 [00:00<?, ?it/s]"
          ],
          "name": "stderr"
        },
        {
          "output_type": "stream",
          "text": [
            "test_acc: 0.828\n",
            "total loss : 0.351681\n",
            "Learning rate: 0.000100\n"
          ],
          "name": "stdout"
        },
        {
          "output_type": "stream",
          "text": [
            "Epoch 1: 100%|██████████| 71/71 [02:16<00:00,  1.93s/it, acc=0.876, xentropy=0.347]\n"
          ],
          "name": "stderr"
        },
        {
          "output_type": "stream",
          "text": [
            " Running Tests.. \n"
          ],
          "name": "stdout"
        },
        {
          "output_type": "stream",
          "text": [
            "\r  0%|          | 0/71 [00:00<?, ?it/s]"
          ],
          "name": "stderr"
        },
        {
          "output_type": "stream",
          "text": [
            "test_acc: 0.823\n",
            "total loss : 0.347616\n",
            "Learning rate: 0.000100\n"
          ],
          "name": "stdout"
        },
        {
          "output_type": "stream",
          "text": [
            "Epoch 2: 100%|██████████| 71/71 [02:18<00:00,  1.95s/it, acc=0.874, xentropy=0.358]\n"
          ],
          "name": "stderr"
        },
        {
          "output_type": "stream",
          "text": [
            " Running Tests.. \n"
          ],
          "name": "stdout"
        },
        {
          "output_type": "stream",
          "text": [
            "\r  0%|          | 0/71 [00:00<?, ?it/s]"
          ],
          "name": "stderr"
        },
        {
          "output_type": "stream",
          "text": [
            "test_acc: 0.826\n",
            "total loss : 0.357835\n",
            "Learning rate: 0.000100\n"
          ],
          "name": "stdout"
        },
        {
          "output_type": "stream",
          "text": [
            "Epoch 3: 100%|██████████| 71/71 [02:17<00:00,  1.94s/it, acc=0.867, xentropy=0.362]\n"
          ],
          "name": "stderr"
        },
        {
          "output_type": "stream",
          "text": [
            " Running Tests.. \n"
          ],
          "name": "stdout"
        },
        {
          "output_type": "stream",
          "text": [
            "\r  0%|          | 0/71 [00:00<?, ?it/s]"
          ],
          "name": "stderr"
        },
        {
          "output_type": "stream",
          "text": [
            "test_acc: 0.823\n",
            "total loss : 0.361212\n",
            "Learning rate: 0.000100\n"
          ],
          "name": "stdout"
        },
        {
          "output_type": "stream",
          "text": [
            "Epoch 4: 100%|██████████| 71/71 [02:19<00:00,  1.96s/it, acc=0.875, xentropy=0.350]\n"
          ],
          "name": "stderr"
        },
        {
          "output_type": "stream",
          "text": [
            " Running Tests.. \n"
          ],
          "name": "stdout"
        },
        {
          "output_type": "stream",
          "text": [
            "\r  0%|          | 0/71 [00:00<?, ?it/s]"
          ],
          "name": "stderr"
        },
        {
          "output_type": "stream",
          "text": [
            "test_acc: 0.822\n",
            "total loss : 0.350259\n",
            "Learning rate: 0.000100\n"
          ],
          "name": "stdout"
        },
        {
          "output_type": "stream",
          "text": [
            "Epoch 5: 100%|██████████| 71/71 [02:17<00:00,  1.93s/it, acc=0.876, xentropy=0.345]\n"
          ],
          "name": "stderr"
        },
        {
          "output_type": "stream",
          "text": [
            " Running Tests.. \n"
          ],
          "name": "stdout"
        },
        {
          "output_type": "stream",
          "text": [
            "\r  0%|          | 0/71 [00:00<?, ?it/s]"
          ],
          "name": "stderr"
        },
        {
          "output_type": "stream",
          "text": [
            "test_acc: 0.825\n",
            "total loss : 0.344158\n",
            "Learning rate: 0.000100\n"
          ],
          "name": "stdout"
        },
        {
          "output_type": "stream",
          "text": [
            "Epoch 6: 100%|██████████| 71/71 [02:16<00:00,  1.93s/it, acc=0.875, xentropy=0.350]\n"
          ],
          "name": "stderr"
        },
        {
          "output_type": "stream",
          "text": [
            " Running Tests.. \n"
          ],
          "name": "stdout"
        },
        {
          "output_type": "stream",
          "text": [
            "\r  0%|          | 0/71 [00:00<?, ?it/s]"
          ],
          "name": "stderr"
        },
        {
          "output_type": "stream",
          "text": [
            "test_acc: 0.825\n",
            "total loss : 0.350343\n",
            "Learning rate: 0.000100\n"
          ],
          "name": "stdout"
        },
        {
          "output_type": "stream",
          "text": [
            "Epoch 7: 100%|██████████| 71/71 [02:16<00:00,  1.92s/it, acc=0.878, xentropy=0.346]\n"
          ],
          "name": "stderr"
        },
        {
          "output_type": "stream",
          "text": [
            " Running Tests.. \n"
          ],
          "name": "stdout"
        },
        {
          "output_type": "stream",
          "text": [
            "\r  0%|          | 0/71 [00:00<?, ?it/s]"
          ],
          "name": "stderr"
        },
        {
          "output_type": "stream",
          "text": [
            "test_acc: 0.829\n",
            "total loss : 0.346785\n",
            "Learning rate: 0.000100\n"
          ],
          "name": "stdout"
        },
        {
          "output_type": "stream",
          "text": [
            "Epoch 8: 100%|██████████| 71/71 [02:17<00:00,  1.93s/it, acc=0.869, xentropy=0.349]\n"
          ],
          "name": "stderr"
        },
        {
          "output_type": "stream",
          "text": [
            " Running Tests.. \n"
          ],
          "name": "stdout"
        },
        {
          "output_type": "stream",
          "text": [
            "\r  0%|          | 0/71 [00:00<?, ?it/s]"
          ],
          "name": "stderr"
        },
        {
          "output_type": "stream",
          "text": [
            "test_acc: 0.822\n",
            "total loss : 0.347749\n",
            "Learning rate: 0.000100\n"
          ],
          "name": "stdout"
        },
        {
          "output_type": "stream",
          "text": [
            "Epoch 9: 100%|██████████| 71/71 [02:17<00:00,  1.93s/it, acc=0.879, xentropy=0.344]\n"
          ],
          "name": "stderr"
        },
        {
          "output_type": "stream",
          "text": [
            " Running Tests.. \n"
          ],
          "name": "stdout"
        },
        {
          "output_type": "stream",
          "text": [
            "\r  0%|          | 0/71 [00:00<?, ?it/s]"
          ],
          "name": "stderr"
        },
        {
          "output_type": "stream",
          "text": [
            "test_acc: 0.823\n",
            "total loss : 0.344153\n",
            "Learning rate: 0.000100\n"
          ],
          "name": "stdout"
        },
        {
          "output_type": "stream",
          "text": [
            "Epoch 10: 100%|██████████| 71/71 [02:18<00:00,  1.95s/it, acc=0.870, xentropy=0.340]\n"
          ],
          "name": "stderr"
        },
        {
          "output_type": "stream",
          "text": [
            " Running Tests.. \n"
          ],
          "name": "stdout"
        },
        {
          "output_type": "stream",
          "text": [
            "\r  0%|          | 0/71 [00:00<?, ?it/s]"
          ],
          "name": "stderr"
        },
        {
          "output_type": "stream",
          "text": [
            "test_acc: 0.827\n",
            "total loss : 0.340669\n",
            "Learning rate: 0.000100\n"
          ],
          "name": "stdout"
        },
        {
          "output_type": "stream",
          "text": [
            "Epoch 11: 100%|██████████| 71/71 [02:18<00:00,  1.95s/it, acc=0.874, xentropy=0.344]\n"
          ],
          "name": "stderr"
        },
        {
          "output_type": "stream",
          "text": [
            " Running Tests.. \n"
          ],
          "name": "stdout"
        },
        {
          "output_type": "stream",
          "text": [
            "\r  0%|          | 0/71 [00:00<?, ?it/s]"
          ],
          "name": "stderr"
        },
        {
          "output_type": "stream",
          "text": [
            "test_acc: 0.827\n",
            "total loss : 0.343512\n",
            "Learning rate: 0.000100\n"
          ],
          "name": "stdout"
        },
        {
          "output_type": "stream",
          "text": [
            "Epoch 12: 100%|██████████| 71/71 [02:17<00:00,  1.94s/it, acc=0.875, xentropy=0.350]\n"
          ],
          "name": "stderr"
        },
        {
          "output_type": "stream",
          "text": [
            " Running Tests.. \n"
          ],
          "name": "stdout"
        },
        {
          "output_type": "stream",
          "text": [
            "\r  0%|          | 0/71 [00:00<?, ?it/s]"
          ],
          "name": "stderr"
        },
        {
          "output_type": "stream",
          "text": [
            "test_acc: 0.829\n",
            "total loss : 0.350523\n",
            "Learning rate: 0.000100\n"
          ],
          "name": "stdout"
        },
        {
          "output_type": "stream",
          "text": [
            "Epoch 13: 100%|██████████| 71/71 [02:17<00:00,  1.94s/it, acc=0.879, xentropy=0.343]\n"
          ],
          "name": "stderr"
        },
        {
          "output_type": "stream",
          "text": [
            " Running Tests.. \n"
          ],
          "name": "stdout"
        },
        {
          "output_type": "stream",
          "text": [
            "\r  0%|          | 0/71 [00:00<?, ?it/s]"
          ],
          "name": "stderr"
        },
        {
          "output_type": "stream",
          "text": [
            "test_acc: 0.827\n",
            "total loss : 0.343217\n",
            "Learning rate: 0.000100\n"
          ],
          "name": "stdout"
        },
        {
          "output_type": "stream",
          "text": [
            "Epoch 14: 100%|██████████| 71/71 [02:17<00:00,  1.94s/it, acc=0.882, xentropy=0.328]\n"
          ],
          "name": "stderr"
        },
        {
          "output_type": "stream",
          "text": [
            " Running Tests.. \n"
          ],
          "name": "stdout"
        },
        {
          "output_type": "stream",
          "text": [
            "\r  0%|          | 0/71 [00:00<?, ?it/s]"
          ],
          "name": "stderr"
        },
        {
          "output_type": "stream",
          "text": [
            "test_acc: 0.825\n",
            "total loss : 0.328081\n",
            "Learning rate: 0.000100\n"
          ],
          "name": "stdout"
        },
        {
          "output_type": "stream",
          "text": [
            "Epoch 15: 100%|██████████| 71/71 [02:17<00:00,  1.93s/it, acc=0.874, xentropy=0.351]\n"
          ],
          "name": "stderr"
        },
        {
          "output_type": "stream",
          "text": [
            " Running Tests.. \n"
          ],
          "name": "stdout"
        },
        {
          "output_type": "stream",
          "text": [
            "\r  0%|          | 0/71 [00:00<?, ?it/s]"
          ],
          "name": "stderr"
        },
        {
          "output_type": "stream",
          "text": [
            "test_acc: 0.829\n",
            "total loss : 0.350891\n",
            "Learning rate: 0.000100\n"
          ],
          "name": "stdout"
        },
        {
          "output_type": "stream",
          "text": [
            "Epoch 16: 100%|██████████| 71/71 [02:17<00:00,  1.94s/it, acc=0.875, xentropy=0.358]\n"
          ],
          "name": "stderr"
        },
        {
          "output_type": "stream",
          "text": [
            " Running Tests.. \n"
          ],
          "name": "stdout"
        },
        {
          "output_type": "stream",
          "text": [
            "\r  0%|          | 0/71 [00:00<?, ?it/s]"
          ],
          "name": "stderr"
        },
        {
          "output_type": "stream",
          "text": [
            "test_acc: 0.828\n",
            "total loss : 0.358090\n",
            "Learning rate: 0.000100\n"
          ],
          "name": "stdout"
        },
        {
          "output_type": "stream",
          "text": [
            "Epoch 17: 100%|██████████| 71/71 [02:16<00:00,  1.93s/it, acc=0.880, xentropy=0.344]\n"
          ],
          "name": "stderr"
        },
        {
          "output_type": "stream",
          "text": [
            " Running Tests.. \n"
          ],
          "name": "stdout"
        },
        {
          "output_type": "stream",
          "text": [
            "\r  0%|          | 0/71 [00:00<?, ?it/s]"
          ],
          "name": "stderr"
        },
        {
          "output_type": "stream",
          "text": [
            "test_acc: 0.827\n",
            "total loss : 0.344251\n",
            "Learning rate: 0.000100\n"
          ],
          "name": "stdout"
        },
        {
          "output_type": "stream",
          "text": [
            "Epoch 18: 100%|██████████| 71/71 [02:18<00:00,  1.95s/it, acc=0.881, xentropy=0.337]\n"
          ],
          "name": "stderr"
        },
        {
          "output_type": "stream",
          "text": [
            " Running Tests.. \n"
          ],
          "name": "stdout"
        },
        {
          "output_type": "stream",
          "text": [
            "\r  0%|          | 0/71 [00:00<?, ?it/s]"
          ],
          "name": "stderr"
        },
        {
          "output_type": "stream",
          "text": [
            "test_acc: 0.829\n",
            "total loss : 0.336011\n",
            "Learning rate: 0.000100\n"
          ],
          "name": "stdout"
        },
        {
          "output_type": "stream",
          "text": [
            "Epoch 19: 100%|██████████| 71/71 [02:16<00:00,  1.93s/it, acc=0.871, xentropy=0.356]\n"
          ],
          "name": "stderr"
        },
        {
          "output_type": "stream",
          "text": [
            " Running Tests.. \n"
          ],
          "name": "stdout"
        },
        {
          "output_type": "stream",
          "text": [
            "\r  0%|          | 0/71 [00:00<?, ?it/s]"
          ],
          "name": "stderr"
        },
        {
          "output_type": "stream",
          "text": [
            "test_acc: 0.823\n",
            "total loss : 0.356458\n",
            "Learning rate: 0.000100\n"
          ],
          "name": "stdout"
        },
        {
          "output_type": "stream",
          "text": [
            "Epoch 20: 100%|██████████| 71/71 [02:16<00:00,  1.93s/it, acc=0.875, xentropy=0.346]\n"
          ],
          "name": "stderr"
        },
        {
          "output_type": "stream",
          "text": [
            " Running Tests.. \n"
          ],
          "name": "stdout"
        },
        {
          "output_type": "stream",
          "text": [
            "\r  0%|          | 0/71 [00:00<?, ?it/s]"
          ],
          "name": "stderr"
        },
        {
          "output_type": "stream",
          "text": [
            "test_acc: 0.825\n",
            "total loss : 0.345503\n",
            "Learning rate: 0.000100\n"
          ],
          "name": "stdout"
        },
        {
          "output_type": "stream",
          "text": [
            "Epoch 21: 100%|██████████| 71/71 [02:17<00:00,  1.93s/it, acc=0.875, xentropy=0.353]\n"
          ],
          "name": "stderr"
        },
        {
          "output_type": "stream",
          "text": [
            " Running Tests.. \n"
          ],
          "name": "stdout"
        },
        {
          "output_type": "stream",
          "text": [
            "\r  0%|          | 0/71 [00:00<?, ?it/s]"
          ],
          "name": "stderr"
        },
        {
          "output_type": "stream",
          "text": [
            "test_acc: 0.824\n",
            "total loss : 0.353013\n",
            "Learning rate: 0.000100\n"
          ],
          "name": "stdout"
        },
        {
          "output_type": "stream",
          "text": [
            "Epoch 22: 100%|██████████| 71/71 [02:17<00:00,  1.93s/it, acc=0.875, xentropy=0.347]\n"
          ],
          "name": "stderr"
        },
        {
          "output_type": "stream",
          "text": [
            " Running Tests.. \n"
          ],
          "name": "stdout"
        },
        {
          "output_type": "stream",
          "text": [
            "\r  0%|          | 0/71 [00:00<?, ?it/s]"
          ],
          "name": "stderr"
        },
        {
          "output_type": "stream",
          "text": [
            "test_acc: 0.825\n",
            "total loss : 0.347309\n",
            "Learning rate: 0.000100\n"
          ],
          "name": "stdout"
        },
        {
          "output_type": "stream",
          "text": [
            "Epoch 23: 100%|██████████| 71/71 [02:18<00:00,  1.96s/it, acc=0.874, xentropy=0.345]\n"
          ],
          "name": "stderr"
        },
        {
          "output_type": "stream",
          "text": [
            " Running Tests.. \n"
          ],
          "name": "stdout"
        },
        {
          "output_type": "stream",
          "text": [
            "\r  0%|          | 0/71 [00:00<?, ?it/s]"
          ],
          "name": "stderr"
        },
        {
          "output_type": "stream",
          "text": [
            "test_acc: 0.827\n",
            "total loss : 0.344597\n",
            "Learning rate: 0.000100\n"
          ],
          "name": "stdout"
        },
        {
          "output_type": "stream",
          "text": [
            "Epoch 24: 100%|██████████| 71/71 [02:17<00:00,  1.93s/it, acc=0.864, xentropy=0.359]\n"
          ],
          "name": "stderr"
        },
        {
          "output_type": "stream",
          "text": [
            " Running Tests.. \n"
          ],
          "name": "stdout"
        },
        {
          "output_type": "stream",
          "text": [
            "\r  0%|          | 0/71 [00:00<?, ?it/s]"
          ],
          "name": "stderr"
        },
        {
          "output_type": "stream",
          "text": [
            "test_acc: 0.826\n",
            "total loss : 0.359285\n",
            "Learning rate: 0.000100\n"
          ],
          "name": "stdout"
        },
        {
          "output_type": "stream",
          "text": [
            "Epoch 25: 100%|██████████| 71/71 [02:17<00:00,  1.93s/it, acc=0.874, xentropy=0.343]\n"
          ],
          "name": "stderr"
        },
        {
          "output_type": "stream",
          "text": [
            " Running Tests.. \n"
          ],
          "name": "stdout"
        },
        {
          "output_type": "stream",
          "text": [
            "\r  0%|          | 0/71 [00:00<?, ?it/s]"
          ],
          "name": "stderr"
        },
        {
          "output_type": "stream",
          "text": [
            "test_acc: 0.816\n",
            "total loss : 0.342969\n",
            "Learning rate: 0.000100\n"
          ],
          "name": "stdout"
        },
        {
          "output_type": "stream",
          "text": [
            "Epoch 26: 100%|██████████| 71/71 [02:16<00:00,  1.93s/it, acc=0.883, xentropy=0.341]\n"
          ],
          "name": "stderr"
        },
        {
          "output_type": "stream",
          "text": [
            " Running Tests.. \n"
          ],
          "name": "stdout"
        },
        {
          "output_type": "stream",
          "text": [
            "\r  0%|          | 0/71 [00:00<?, ?it/s]"
          ],
          "name": "stderr"
        },
        {
          "output_type": "stream",
          "text": [
            "test_acc: 0.825\n",
            "total loss : 0.340623\n",
            "Learning rate: 0.000100\n"
          ],
          "name": "stdout"
        },
        {
          "output_type": "stream",
          "text": [
            "Epoch 27: 100%|██████████| 71/71 [02:17<00:00,  1.93s/it, acc=0.883, xentropy=0.327]\n"
          ],
          "name": "stderr"
        },
        {
          "output_type": "stream",
          "text": [
            " Running Tests.. \n"
          ],
          "name": "stdout"
        },
        {
          "output_type": "stream",
          "text": [
            "\r  0%|          | 0/71 [00:00<?, ?it/s]"
          ],
          "name": "stderr"
        },
        {
          "output_type": "stream",
          "text": [
            "test_acc: 0.822\n",
            "total loss : 0.327380\n",
            "Learning rate: 0.000100\n"
          ],
          "name": "stdout"
        },
        {
          "output_type": "stream",
          "text": [
            "Epoch 28: 100%|██████████| 71/71 [02:17<00:00,  1.93s/it, acc=0.880, xentropy=0.333]\n"
          ],
          "name": "stderr"
        },
        {
          "output_type": "stream",
          "text": [
            " Running Tests.. \n"
          ],
          "name": "stdout"
        },
        {
          "output_type": "stream",
          "text": [
            "\r  0%|          | 0/71 [00:00<?, ?it/s]"
          ],
          "name": "stderr"
        },
        {
          "output_type": "stream",
          "text": [
            "test_acc: 0.821\n",
            "total loss : 0.333561\n",
            "Learning rate: 0.000100\n"
          ],
          "name": "stdout"
        },
        {
          "output_type": "stream",
          "text": [
            "Epoch 29: 100%|██████████| 71/71 [02:17<00:00,  1.93s/it, acc=0.873, xentropy=0.343]\n"
          ],
          "name": "stderr"
        },
        {
          "output_type": "stream",
          "text": [
            " Running Tests.. \n"
          ],
          "name": "stdout"
        },
        {
          "output_type": "stream",
          "text": [
            "\r  0%|          | 0/71 [00:00<?, ?it/s]"
          ],
          "name": "stderr"
        },
        {
          "output_type": "stream",
          "text": [
            "test_acc: 0.824\n",
            "total loss : 0.342736\n",
            "Learning rate: 0.000100\n"
          ],
          "name": "stdout"
        },
        {
          "output_type": "stream",
          "text": [
            "Epoch 30: 100%|██████████| 71/71 [02:17<00:00,  1.93s/it, acc=0.880, xentropy=0.327]\n"
          ],
          "name": "stderr"
        },
        {
          "output_type": "stream",
          "text": [
            " Running Tests.. \n"
          ],
          "name": "stdout"
        },
        {
          "output_type": "stream",
          "text": [
            "\r  0%|          | 0/71 [00:00<?, ?it/s]"
          ],
          "name": "stderr"
        },
        {
          "output_type": "stream",
          "text": [
            "test_acc: 0.830\n",
            "total loss : 0.327288\n",
            "Learning rate: 0.000100\n"
          ],
          "name": "stdout"
        },
        {
          "output_type": "stream",
          "text": [
            "Epoch 31: 100%|██████████| 71/71 [02:17<00:00,  1.93s/it, acc=0.867, xentropy=0.340]\n"
          ],
          "name": "stderr"
        },
        {
          "output_type": "stream",
          "text": [
            " Running Tests.. \n"
          ],
          "name": "stdout"
        },
        {
          "output_type": "stream",
          "text": [
            "\r  0%|          | 0/71 [00:00<?, ?it/s]"
          ],
          "name": "stderr"
        },
        {
          "output_type": "stream",
          "text": [
            "test_acc: 0.826\n",
            "total loss : 0.339561\n",
            "Learning rate: 0.000100\n"
          ],
          "name": "stdout"
        },
        {
          "output_type": "stream",
          "text": [
            "Epoch 32: 100%|██████████| 71/71 [02:17<00:00,  1.94s/it, acc=0.879, xentropy=0.344]\n"
          ],
          "name": "stderr"
        },
        {
          "output_type": "stream",
          "text": [
            " Running Tests.. \n"
          ],
          "name": "stdout"
        },
        {
          "output_type": "stream",
          "text": [
            "\r  0%|          | 0/71 [00:00<?, ?it/s]"
          ],
          "name": "stderr"
        },
        {
          "output_type": "stream",
          "text": [
            "test_acc: 0.832\n",
            "total loss : 0.344241\n",
            "Learning rate: 0.000100\n"
          ],
          "name": "stdout"
        },
        {
          "output_type": "stream",
          "text": [
            "Epoch 33: 100%|██████████| 71/71 [02:17<00:00,  1.94s/it, acc=0.878, xentropy=0.339]\n"
          ],
          "name": "stderr"
        },
        {
          "output_type": "stream",
          "text": [
            " Running Tests.. \n"
          ],
          "name": "stdout"
        },
        {
          "output_type": "stream",
          "text": [
            "\r  0%|          | 0/71 [00:00<?, ?it/s]"
          ],
          "name": "stderr"
        },
        {
          "output_type": "stream",
          "text": [
            "test_acc: 0.827\n",
            "total loss : 0.339102\n",
            "Learning rate: 0.000100\n"
          ],
          "name": "stdout"
        },
        {
          "output_type": "stream",
          "text": [
            "Epoch 34: 100%|██████████| 71/71 [02:17<00:00,  1.93s/it, acc=0.876, xentropy=0.345]\n"
          ],
          "name": "stderr"
        },
        {
          "output_type": "stream",
          "text": [
            " Running Tests.. \n"
          ],
          "name": "stdout"
        },
        {
          "output_type": "stream",
          "text": [
            "\r  0%|          | 0/71 [00:00<?, ?it/s]"
          ],
          "name": "stderr"
        },
        {
          "output_type": "stream",
          "text": [
            "test_acc: 0.823\n",
            "total loss : 0.345142\n",
            "Learning rate: 0.000100\n"
          ],
          "name": "stdout"
        },
        {
          "output_type": "stream",
          "text": [
            "Epoch 35: 100%|██████████| 71/71 [02:16<00:00,  1.92s/it, acc=0.878, xentropy=0.341]\n"
          ],
          "name": "stderr"
        },
        {
          "output_type": "stream",
          "text": [
            " Running Tests.. \n"
          ],
          "name": "stdout"
        },
        {
          "output_type": "stream",
          "text": [
            "\r  0%|          | 0/71 [00:00<?, ?it/s]"
          ],
          "name": "stderr"
        },
        {
          "output_type": "stream",
          "text": [
            "test_acc: 0.824\n",
            "total loss : 0.340292\n",
            "Learning rate: 0.000100\n"
          ],
          "name": "stdout"
        },
        {
          "output_type": "stream",
          "text": [
            "Epoch 36: 100%|██████████| 71/71 [02:17<00:00,  1.93s/it, acc=0.870, xentropy=0.344]\n"
          ],
          "name": "stderr"
        },
        {
          "output_type": "stream",
          "text": [
            " Running Tests.. \n"
          ],
          "name": "stdout"
        },
        {
          "output_type": "stream",
          "text": [
            "\r  0%|          | 0/71 [00:00<?, ?it/s]"
          ],
          "name": "stderr"
        },
        {
          "output_type": "stream",
          "text": [
            "test_acc: 0.827\n",
            "total loss : 0.343812\n",
            "Learning rate: 0.000100\n"
          ],
          "name": "stdout"
        },
        {
          "output_type": "stream",
          "text": [
            "Epoch 37: 100%|██████████| 71/71 [02:17<00:00,  1.93s/it, acc=0.881, xentropy=0.347]\n"
          ],
          "name": "stderr"
        },
        {
          "output_type": "stream",
          "text": [
            " Running Tests.. \n"
          ],
          "name": "stdout"
        },
        {
          "output_type": "stream",
          "text": [
            "\r  0%|          | 0/71 [00:00<?, ?it/s]"
          ],
          "name": "stderr"
        },
        {
          "output_type": "stream",
          "text": [
            "test_acc: 0.825\n",
            "total loss : 0.346792\n",
            "Learning rate: 0.000100\n"
          ],
          "name": "stdout"
        },
        {
          "output_type": "stream",
          "text": [
            "Epoch 38: 100%|██████████| 71/71 [02:17<00:00,  1.93s/it, acc=0.866, xentropy=0.348]\n"
          ],
          "name": "stderr"
        },
        {
          "output_type": "stream",
          "text": [
            " Running Tests.. \n"
          ],
          "name": "stdout"
        },
        {
          "output_type": "stream",
          "text": [
            "\r  0%|          | 0/71 [00:00<?, ?it/s]"
          ],
          "name": "stderr"
        },
        {
          "output_type": "stream",
          "text": [
            "test_acc: 0.827\n",
            "total loss : 0.348051\n",
            "Learning rate: 0.000100\n"
          ],
          "name": "stdout"
        },
        {
          "output_type": "stream",
          "text": [
            "Epoch 39: 100%|██████████| 71/71 [02:17<00:00,  1.93s/it, acc=0.885, xentropy=0.333]\n"
          ],
          "name": "stderr"
        },
        {
          "output_type": "stream",
          "text": [
            " Running Tests.. \n"
          ],
          "name": "stdout"
        },
        {
          "output_type": "stream",
          "text": [
            "\r  0%|          | 0/71 [00:00<?, ?it/s]"
          ],
          "name": "stderr"
        },
        {
          "output_type": "stream",
          "text": [
            "test_acc: 0.828\n",
            "total loss : 0.332528\n",
            "Learning rate: 0.000100\n"
          ],
          "name": "stdout"
        },
        {
          "output_type": "stream",
          "text": [
            "Epoch 40: 100%|██████████| 71/71 [02:15<00:00,  1.91s/it, acc=0.878, xentropy=0.336]\n"
          ],
          "name": "stderr"
        },
        {
          "output_type": "stream",
          "text": [
            " Running Tests.. \n"
          ],
          "name": "stdout"
        },
        {
          "output_type": "stream",
          "text": [
            "\r  0%|          | 0/71 [00:00<?, ?it/s]"
          ],
          "name": "stderr"
        },
        {
          "output_type": "stream",
          "text": [
            "test_acc: 0.825\n",
            "total loss : 0.336383\n",
            "Learning rate: 0.000100\n"
          ],
          "name": "stdout"
        },
        {
          "output_type": "stream",
          "text": [
            "Epoch 41: 100%|██████████| 71/71 [02:16<00:00,  1.93s/it, acc=0.869, xentropy=0.356]\n"
          ],
          "name": "stderr"
        },
        {
          "output_type": "stream",
          "text": [
            " Running Tests.. \n"
          ],
          "name": "stdout"
        },
        {
          "output_type": "stream",
          "text": [
            "\r  0%|          | 0/71 [00:00<?, ?it/s]"
          ],
          "name": "stderr"
        },
        {
          "output_type": "stream",
          "text": [
            "test_acc: 0.826\n",
            "total loss : 0.356203\n",
            "Learning rate: 0.000100\n"
          ],
          "name": "stdout"
        },
        {
          "output_type": "stream",
          "text": [
            "Epoch 42: 100%|██████████| 71/71 [02:16<00:00,  1.93s/it, acc=0.874, xentropy=0.337]\n"
          ],
          "name": "stderr"
        },
        {
          "output_type": "stream",
          "text": [
            " Running Tests.. \n"
          ],
          "name": "stdout"
        },
        {
          "output_type": "stream",
          "text": [
            "\r  0%|          | 0/71 [00:00<?, ?it/s]"
          ],
          "name": "stderr"
        },
        {
          "output_type": "stream",
          "text": [
            "test_acc: 0.825\n",
            "total loss : 0.337859\n",
            "Learning rate: 0.000100\n"
          ],
          "name": "stdout"
        },
        {
          "output_type": "stream",
          "text": [
            "Epoch 43: 100%|██████████| 71/71 [02:16<00:00,  1.93s/it, acc=0.877, xentropy=0.336]\n"
          ],
          "name": "stderr"
        },
        {
          "output_type": "stream",
          "text": [
            " Running Tests.. \n"
          ],
          "name": "stdout"
        },
        {
          "output_type": "stream",
          "text": [
            "\r  0%|          | 0/71 [00:00<?, ?it/s]"
          ],
          "name": "stderr"
        },
        {
          "output_type": "stream",
          "text": [
            "test_acc: 0.829\n",
            "total loss : 0.336015\n",
            "Learning rate: 0.000100\n"
          ],
          "name": "stdout"
        },
        {
          "output_type": "stream",
          "text": [
            "Epoch 44: 100%|██████████| 71/71 [02:19<00:00,  1.97s/it, acc=0.869, xentropy=0.353]\n"
          ],
          "name": "stderr"
        },
        {
          "output_type": "stream",
          "text": [
            " Running Tests.. \n"
          ],
          "name": "stdout"
        },
        {
          "output_type": "stream",
          "text": [
            "\r  0%|          | 0/71 [00:00<?, ?it/s]"
          ],
          "name": "stderr"
        },
        {
          "output_type": "stream",
          "text": [
            "test_acc: 0.829\n",
            "total loss : 0.352305\n",
            "Learning rate: 0.000100\n"
          ],
          "name": "stdout"
        },
        {
          "output_type": "stream",
          "text": [
            "Epoch 45: 100%|██████████| 71/71 [02:18<00:00,  1.95s/it, acc=0.874, xentropy=0.346]\n"
          ],
          "name": "stderr"
        },
        {
          "output_type": "stream",
          "text": [
            " Running Tests.. \n"
          ],
          "name": "stdout"
        },
        {
          "output_type": "stream",
          "text": [
            "\r  0%|          | 0/71 [00:00<?, ?it/s]"
          ],
          "name": "stderr"
        },
        {
          "output_type": "stream",
          "text": [
            "test_acc: 0.829\n",
            "total loss : 0.345308\n",
            "Learning rate: 0.000100\n"
          ],
          "name": "stdout"
        },
        {
          "output_type": "stream",
          "text": [
            "Epoch 46: 100%|██████████| 71/71 [02:17<00:00,  1.93s/it, acc=0.880, xentropy=0.344]\n"
          ],
          "name": "stderr"
        },
        {
          "output_type": "stream",
          "text": [
            " Running Tests.. \n"
          ],
          "name": "stdout"
        },
        {
          "output_type": "stream",
          "text": [
            "\r  0%|          | 0/71 [00:00<?, ?it/s]"
          ],
          "name": "stderr"
        },
        {
          "output_type": "stream",
          "text": [
            "test_acc: 0.832\n",
            "total loss : 0.343850\n",
            "Learning rate: 0.000100\n"
          ],
          "name": "stdout"
        },
        {
          "output_type": "stream",
          "text": [
            "Epoch 47: 100%|██████████| 71/71 [02:16<00:00,  1.93s/it, acc=0.882, xentropy=0.328]\n"
          ],
          "name": "stderr"
        },
        {
          "output_type": "stream",
          "text": [
            " Running Tests.. \n"
          ],
          "name": "stdout"
        },
        {
          "output_type": "stream",
          "text": [
            "\r  0%|          | 0/71 [00:00<?, ?it/s]"
          ],
          "name": "stderr"
        },
        {
          "output_type": "stream",
          "text": [
            "test_acc: 0.825\n",
            "total loss : 0.328262\n",
            "Learning rate: 0.000100\n"
          ],
          "name": "stdout"
        },
        {
          "output_type": "stream",
          "text": [
            "Epoch 48: 100%|██████████| 71/71 [02:16<00:00,  1.93s/it, acc=0.874, xentropy=0.336]\n"
          ],
          "name": "stderr"
        },
        {
          "output_type": "stream",
          "text": [
            " Running Tests.. \n"
          ],
          "name": "stdout"
        },
        {
          "output_type": "stream",
          "text": [
            "\r  0%|          | 0/71 [00:00<?, ?it/s]"
          ],
          "name": "stderr"
        },
        {
          "output_type": "stream",
          "text": [
            "test_acc: 0.825\n",
            "total loss : 0.335990\n",
            "Learning rate: 0.000100\n"
          ],
          "name": "stdout"
        },
        {
          "output_type": "stream",
          "text": [
            "Epoch 49: 100%|██████████| 71/71 [02:17<00:00,  1.93s/it, acc=0.878, xentropy=0.336]\n"
          ],
          "name": "stderr"
        },
        {
          "output_type": "stream",
          "text": [
            " Running Tests.. \n"
          ],
          "name": "stdout"
        },
        {
          "output_type": "stream",
          "text": [
            "\r  0%|          | 0/71 [00:00<?, ?it/s]"
          ],
          "name": "stderr"
        },
        {
          "output_type": "stream",
          "text": [
            "test_acc: 0.823\n",
            "total loss : 0.336181\n",
            "Learning rate: 0.000100\n"
          ],
          "name": "stdout"
        },
        {
          "output_type": "stream",
          "text": [
            "Epoch 50: 100%|██████████| 71/71 [02:17<00:00,  1.93s/it, acc=0.879, xentropy=0.333]\n"
          ],
          "name": "stderr"
        },
        {
          "output_type": "stream",
          "text": [
            " Running Tests.. \n"
          ],
          "name": "stdout"
        },
        {
          "output_type": "stream",
          "text": [
            "\r  0%|          | 0/71 [00:00<?, ?it/s]"
          ],
          "name": "stderr"
        },
        {
          "output_type": "stream",
          "text": [
            "test_acc: 0.827\n",
            "total loss : 0.333426\n",
            "Learning rate: 0.000100\n"
          ],
          "name": "stdout"
        },
        {
          "output_type": "stream",
          "text": [
            "Epoch 51: 100%|██████████| 71/71 [02:17<00:00,  1.94s/it, acc=0.870, xentropy=0.355]\n"
          ],
          "name": "stderr"
        },
        {
          "output_type": "stream",
          "text": [
            " Running Tests.. \n"
          ],
          "name": "stdout"
        },
        {
          "output_type": "stream",
          "text": [
            "\r  0%|          | 0/71 [00:00<?, ?it/s]"
          ],
          "name": "stderr"
        },
        {
          "output_type": "stream",
          "text": [
            "test_acc: 0.823\n",
            "total loss : 0.355716\n",
            "Learning rate: 0.000100\n"
          ],
          "name": "stdout"
        },
        {
          "output_type": "stream",
          "text": [
            "Epoch 52: 100%|██████████| 71/71 [02:17<00:00,  1.94s/it, acc=0.880, xentropy=0.331]\n"
          ],
          "name": "stderr"
        },
        {
          "output_type": "stream",
          "text": [
            " Running Tests.. \n"
          ],
          "name": "stdout"
        },
        {
          "output_type": "stream",
          "text": [
            "\r  0%|          | 0/71 [00:00<?, ?it/s]"
          ],
          "name": "stderr"
        },
        {
          "output_type": "stream",
          "text": [
            "test_acc: 0.829\n",
            "total loss : 0.330797\n",
            "Learning rate: 0.000100\n"
          ],
          "name": "stdout"
        },
        {
          "output_type": "stream",
          "text": [
            "Epoch 53: 100%|██████████| 71/71 [02:17<00:00,  1.94s/it, acc=0.877, xentropy=0.338]\n"
          ],
          "name": "stderr"
        },
        {
          "output_type": "stream",
          "text": [
            " Running Tests.. \n"
          ],
          "name": "stdout"
        },
        {
          "output_type": "stream",
          "text": [
            "\r  0%|          | 0/71 [00:00<?, ?it/s]"
          ],
          "name": "stderr"
        },
        {
          "output_type": "stream",
          "text": [
            "test_acc: 0.832\n",
            "total loss : 0.338524\n",
            "Learning rate: 0.000100\n"
          ],
          "name": "stdout"
        },
        {
          "output_type": "stream",
          "text": [
            "Epoch 54:  25%|██▌       | 18/71 [00:34<01:43,  1.95s/it, acc=0.904, xentropy=0.320]"
          ],
          "name": "stderr"
        }
      ]
    }
  ]
}