{
  "nbformat": 4,
  "nbformat_minor": 0,
  "metadata": {
    "accelerator": "GPU",
    "colab": {
      "name": "apple_resnet18_hyperparameter.ipynb",
      "provenance": [],
      "collapsed_sections": [
        "088RAVSFHFjA",
        "I5FGdKR8psHY"
      ],
      "toc_visible": true
    },
    "kernelspec": {
      "display_name": "Python 3",
      "language": "python",
      "name": "python3"
    },
    "language_info": {
      "codemirror_mode": {
        "name": "ipython",
        "version": 3
      },
      "file_extension": ".py",
      "mimetype": "text/x-python",
      "name": "python",
      "nbconvert_exporter": "python",
      "pygments_lexer": "ipython3",
      "version": "3.7.3"
    },
    "widgets": {
      "application/vnd.jupyter.widget-state+json": {
        "a0dd54365de848548d58b22cf392085f": {
          "model_module": "@jupyter-widgets/controls",
          "model_name": "HBoxModel",
          "state": {
            "_view_name": "HBoxView",
            "_dom_classes": [],
            "_model_name": "HBoxModel",
            "_view_module": "@jupyter-widgets/controls",
            "_model_module_version": "1.5.0",
            "_view_count": null,
            "_view_module_version": "1.5.0",
            "box_style": "",
            "layout": "IPY_MODEL_76e75517f1114e71b4590214f0515908",
            "_model_module": "@jupyter-widgets/controls",
            "children": [
              "IPY_MODEL_b7a172b0ab2e43e0b99142ff3f375a08",
              "IPY_MODEL_fe5fe5ed8f644eaf928566b28ff40cc7"
            ]
          }
        },
        "76e75517f1114e71b4590214f0515908": {
          "model_module": "@jupyter-widgets/base",
          "model_name": "LayoutModel",
          "state": {
            "_view_name": "LayoutView",
            "grid_template_rows": null,
            "right": null,
            "justify_content": null,
            "_view_module": "@jupyter-widgets/base",
            "overflow": null,
            "_model_module_version": "1.2.0",
            "_view_count": null,
            "flex_flow": null,
            "width": null,
            "min_width": null,
            "border": null,
            "align_items": null,
            "bottom": null,
            "_model_module": "@jupyter-widgets/base",
            "top": null,
            "grid_column": null,
            "overflow_y": null,
            "overflow_x": null,
            "grid_auto_flow": null,
            "grid_area": null,
            "grid_template_columns": null,
            "flex": null,
            "_model_name": "LayoutModel",
            "justify_items": null,
            "grid_row": null,
            "max_height": null,
            "align_content": null,
            "visibility": null,
            "align_self": null,
            "height": null,
            "min_height": null,
            "padding": null,
            "grid_auto_rows": null,
            "grid_gap": null,
            "max_width": null,
            "order": null,
            "_view_module_version": "1.2.0",
            "grid_template_areas": null,
            "object_position": null,
            "object_fit": null,
            "grid_auto_columns": null,
            "margin": null,
            "display": null,
            "left": null
          }
        },
        "b7a172b0ab2e43e0b99142ff3f375a08": {
          "model_module": "@jupyter-widgets/controls",
          "model_name": "FloatProgressModel",
          "state": {
            "_view_name": "ProgressView",
            "style": "IPY_MODEL_36db3cb538d240ae9ffc159f93000ed7",
            "_dom_classes": [],
            "description": "100%",
            "_model_name": "FloatProgressModel",
            "bar_style": "success",
            "max": 46827520,
            "_view_module": "@jupyter-widgets/controls",
            "_model_module_version": "1.5.0",
            "value": 46827520,
            "_view_count": null,
            "_view_module_version": "1.5.0",
            "orientation": "horizontal",
            "min": 0,
            "description_tooltip": null,
            "_model_module": "@jupyter-widgets/controls",
            "layout": "IPY_MODEL_e934000cfad044ca839e336814bee108"
          }
        },
        "fe5fe5ed8f644eaf928566b28ff40cc7": {
          "model_module": "@jupyter-widgets/controls",
          "model_name": "HTMLModel",
          "state": {
            "_view_name": "HTMLView",
            "style": "IPY_MODEL_4253eda31fcd4904882d618b053d1f8e",
            "_dom_classes": [],
            "description": "",
            "_model_name": "HTMLModel",
            "placeholder": "​",
            "_view_module": "@jupyter-widgets/controls",
            "_model_module_version": "1.5.0",
            "value": " 44.7M/44.7M [00:00&lt;00:00, 143MB/s]",
            "_view_count": null,
            "_view_module_version": "1.5.0",
            "description_tooltip": null,
            "_model_module": "@jupyter-widgets/controls",
            "layout": "IPY_MODEL_6e19010c3b59439b9d2f1c3f1eae5a21"
          }
        },
        "36db3cb538d240ae9ffc159f93000ed7": {
          "model_module": "@jupyter-widgets/controls",
          "model_name": "ProgressStyleModel",
          "state": {
            "_view_name": "StyleView",
            "_model_name": "ProgressStyleModel",
            "description_width": "initial",
            "_view_module": "@jupyter-widgets/base",
            "_model_module_version": "1.5.0",
            "_view_count": null,
            "_view_module_version": "1.2.0",
            "bar_color": null,
            "_model_module": "@jupyter-widgets/controls"
          }
        },
        "e934000cfad044ca839e336814bee108": {
          "model_module": "@jupyter-widgets/base",
          "model_name": "LayoutModel",
          "state": {
            "_view_name": "LayoutView",
            "grid_template_rows": null,
            "right": null,
            "justify_content": null,
            "_view_module": "@jupyter-widgets/base",
            "overflow": null,
            "_model_module_version": "1.2.0",
            "_view_count": null,
            "flex_flow": null,
            "width": null,
            "min_width": null,
            "border": null,
            "align_items": null,
            "bottom": null,
            "_model_module": "@jupyter-widgets/base",
            "top": null,
            "grid_column": null,
            "overflow_y": null,
            "overflow_x": null,
            "grid_auto_flow": null,
            "grid_area": null,
            "grid_template_columns": null,
            "flex": null,
            "_model_name": "LayoutModel",
            "justify_items": null,
            "grid_row": null,
            "max_height": null,
            "align_content": null,
            "visibility": null,
            "align_self": null,
            "height": null,
            "min_height": null,
            "padding": null,
            "grid_auto_rows": null,
            "grid_gap": null,
            "max_width": null,
            "order": null,
            "_view_module_version": "1.2.0",
            "grid_template_areas": null,
            "object_position": null,
            "object_fit": null,
            "grid_auto_columns": null,
            "margin": null,
            "display": null,
            "left": null
          }
        },
        "4253eda31fcd4904882d618b053d1f8e": {
          "model_module": "@jupyter-widgets/controls",
          "model_name": "DescriptionStyleModel",
          "state": {
            "_view_name": "StyleView",
            "_model_name": "DescriptionStyleModel",
            "description_width": "",
            "_view_module": "@jupyter-widgets/base",
            "_model_module_version": "1.5.0",
            "_view_count": null,
            "_view_module_version": "1.2.0",
            "_model_module": "@jupyter-widgets/controls"
          }
        },
        "6e19010c3b59439b9d2f1c3f1eae5a21": {
          "model_module": "@jupyter-widgets/base",
          "model_name": "LayoutModel",
          "state": {
            "_view_name": "LayoutView",
            "grid_template_rows": null,
            "right": null,
            "justify_content": null,
            "_view_module": "@jupyter-widgets/base",
            "overflow": null,
            "_model_module_version": "1.2.0",
            "_view_count": null,
            "flex_flow": null,
            "width": null,
            "min_width": null,
            "border": null,
            "align_items": null,
            "bottom": null,
            "_model_module": "@jupyter-widgets/base",
            "top": null,
            "grid_column": null,
            "overflow_y": null,
            "overflow_x": null,
            "grid_auto_flow": null,
            "grid_area": null,
            "grid_template_columns": null,
            "flex": null,
            "_model_name": "LayoutModel",
            "justify_items": null,
            "grid_row": null,
            "max_height": null,
            "align_content": null,
            "visibility": null,
            "align_self": null,
            "height": null,
            "min_height": null,
            "padding": null,
            "grid_auto_rows": null,
            "grid_gap": null,
            "max_width": null,
            "order": null,
            "_view_module_version": "1.2.0",
            "grid_template_areas": null,
            "object_position": null,
            "object_fit": null,
            "grid_auto_columns": null,
            "margin": null,
            "display": null,
            "left": null
          }
        }
      }
    }
  },
  "cells": [
    {
      "cell_type": "markdown",
      "metadata": {
        "id": "sjf1zF--Dx5O"
      },
      "source": [
        "#<h1><center><b> Apple disease Resnet18 Hyperparameter </b></center></h1>"
      ]
    },
    {
      "cell_type": "markdown",
      "metadata": {
        "id": "088RAVSFHFjA"
      },
      "source": [
        "## Import"
      ]
    },
    {
      "cell_type": "code",
      "metadata": {
        "id": "f-TrJ0lVpsHS"
      },
      "source": [
        "# from google.colab import files\n",
        "\n",
        "import os, sys, pdb, shutil, time, random\n",
        "import argparse\n",
        "import torch\n",
        "import torch.backends.cudnn as cudnn\n",
        "import torchvision.datasets as dset\n",
        "import torchvision.transforms as transforms\n",
        "from tqdm import tqdm\n",
        "from torch.optim import lr_scheduler\n",
        "from torch.autograd import Variable\n",
        "from torch.utils.data import Dataset, DataLoader\n",
        "import torch.nn.functional as func\n",
        "import torchvision\n",
        "from torchvision import transforms, datasets, models\n",
        "from os.path import isfile, join, abspath, exists, isdir, expanduser\n",
        "from PIL import Image\n",
        "import pandas as pd\n",
        "import matplotlib.pyplot as plt\n",
        "from shutil import copyfile\n",
        "from os import listdir, makedirs, getcwd, remove\n",
        "from mpl_toolkits.axes_grid1 import ImageGrid\n",
        "import numpy as np\n",
        "\n",
        "import torch.nn as nn\n",
        "from torch.optim.lr_scheduler import MultiStepLR\n",
        "from torchvision.utils import make_grid\n",
        "from skimage import io\n",
        "from torch.optim import Adam\n",
        "# import splitfolders as sp"
      ],
      "execution_count": null,
      "outputs": []
    },
    {
      "cell_type": "code",
      "metadata": {
        "colab": {
          "base_uri": "https://localhost:8080/"
        },
        "id": "D_muIUX1IXNa",
        "outputId": "2def5d33-251f-4a0d-b6de-4ced23f0272a"
      },
      "source": [
        "!pip install bayesian-optimization"
      ],
      "execution_count": null,
      "outputs": [
        {
          "output_type": "stream",
          "text": [
            "Collecting bayesian-optimization\n",
            "  Downloading https://files.pythonhosted.org/packages/bb/7a/fd8059a3881d3ab37ac8f72f56b73937a14e8bb14a9733e68cc8b17dbe3c/bayesian-optimization-1.2.0.tar.gz\n",
            "Requirement already satisfied: numpy>=1.9.0 in /usr/local/lib/python3.7/dist-packages (from bayesian-optimization) (1.19.5)\n",
            "Requirement already satisfied: scipy>=0.14.0 in /usr/local/lib/python3.7/dist-packages (from bayesian-optimization) (1.4.1)\n",
            "Requirement already satisfied: scikit-learn>=0.18.0 in /usr/local/lib/python3.7/dist-packages (from bayesian-optimization) (0.22.2.post1)\n",
            "Requirement already satisfied: joblib>=0.11 in /usr/local/lib/python3.7/dist-packages (from scikit-learn>=0.18.0->bayesian-optimization) (1.0.1)\n",
            "Building wheels for collected packages: bayesian-optimization\n",
            "  Building wheel for bayesian-optimization (setup.py) ... \u001b[?25l\u001b[?25hdone\n",
            "  Created wheel for bayesian-optimization: filename=bayesian_optimization-1.2.0-cp37-none-any.whl size=11687 sha256=7302ce6211dab7ac7ecc7ed5bb3fa53309892b9903c641b1c9db1ad533eee97b\n",
            "  Stored in directory: /root/.cache/pip/wheels/5a/56/ae/e0e3c1fc1954dc3ec712e2df547235ed072b448094d8f94aec\n",
            "Successfully built bayesian-optimization\n",
            "Installing collected packages: bayesian-optimization\n",
            "Successfully installed bayesian-optimization-1.2.0\n"
          ],
          "name": "stdout"
        }
      ]
    },
    {
      "cell_type": "markdown",
      "metadata": {
        "id": "IduO2rOyMera"
      },
      "source": [
        "## 1.Download Dataset"
      ]
    },
    {
      "cell_type": "code",
      "metadata": {
        "id": "Jvp65q6dFetJ"
      },
      "source": [
        "from google.colab import files\n",
        "files.upload()"
      ],
      "execution_count": null,
      "outputs": []
    },
    {
      "cell_type": "code",
      "metadata": {
        "id": "-2iDom-tFeqH"
      },
      "source": [
        "!mkdir -p ~/.kaggle\n",
        "!cp kaggle.json ~/.kaggle\n",
        "!chmod 600 ~/.kaggle/kaggle.json"
      ],
      "execution_count": null,
      "outputs": []
    },
    {
      "cell_type": "code",
      "metadata": {
        "colab": {
          "base_uri": "https://localhost:8080/"
        },
        "id": "_PxpFw4UFeGO",
        "outputId": "88cde820-d65b-4dc3-fd1e-b7005ff68314"
      },
      "source": [
        "!kaggle datasets download -d akshaygudi/apple-leaf-disease"
      ],
      "execution_count": null,
      "outputs": [
        {
          "output_type": "stream",
          "text": [
            "Downloading plantpathology-apple-dataset.zip to /content\n",
            "100% 809M/813M [00:11<00:00, 86.4MB/s]\n",
            "100% 813M/813M [00:11<00:00, 71.1MB/s]\n"
          ],
          "name": "stdout"
        }
      ]
    },
    {
      "cell_type": "code",
      "metadata": {
        "colab": {
          "base_uri": "https://localhost:8080/"
        },
        "id": "9Ut4FeJ3GrDU",
        "outputId": "43acfd25-c04e-4de4-88f1-c4f2eedec442"
      },
      "source": [
        "from zipfile import ZipFile\n",
        "filename = \"plantpathology-apple-dataset.zip\"\n",
        "\n",
        "with ZipFile(filename,'r') as zip_dir:\n",
        "    zip_dir.extractall()\n",
        "    print(\"Done\")"
      ],
      "execution_count": null,
      "outputs": [
        {
          "output_type": "stream",
          "text": [
            "Done\n"
          ],
          "name": "stdout"
        }
      ]
    },
    {
      "cell_type": "markdown",
      "metadata": {
        "id": "9csusyFgOQZp"
      },
      "source": [
        "##<h2>2. Custom Dataset<h2>"
      ]
    },
    {
      "cell_type": "code",
      "metadata": {
        "id": "RUDcPIetPKDm"
      },
      "source": [
        "class MyDataset(Dataset):\n",
        "    \n",
        "    def __init__(self,csv_file,root_dir,transform=None):\n",
        "        self.annotations = pd.read_csv(csv_file)\n",
        "        self.root_dir = root_dir\n",
        "        self.transform = transform\n",
        "    \n",
        "    def __len__(self):\n",
        "        return len(self.annotations)\n",
        "    \n",
        "    def __getitem__(self,index):\n",
        "        img_path = os.path.join(self.root_dir,self.annotations.iloc[index,0])\n",
        "#         print(img_path)\n",
        "#         image = io.imread(img_path)\n",
        "        image = Image.open(img_path).convert('RGB')\n",
        "        ylabel = torch.tensor(int(self.annotations.iloc[index,-1]))\n",
        "        \n",
        "        if self.transform:\n",
        "            image = self.transform(image)\n",
        "        \n",
        "        return (image,ylabel)        "
      ],
      "execution_count": null,
      "outputs": []
    },
    {
      "cell_type": "markdown",
      "metadata": {
        "id": "dcrRZsjkpsHX"
      },
      "source": [
        "## <h2>3. Initialization </h2>"
      ]
    },
    {
      "cell_type": "code",
      "metadata": {
        "colab": {
          "base_uri": "https://localhost:8080/"
        },
        "id": "stNo_6oMpsHX",
        "outputId": "cc846521-c712-4195-8d46-99b3ed6659b0"
      },
      "source": [
        "args = {}\n",
        "\n",
        "args[\"dataset\"] = \"apple\"\n",
        "args[\"model\"] = \"resnet18\"\n",
        "args[\"num_classes\"] =  4\n",
        "args[\"batch_size\"] = 16\n",
        "args[\"epochs\"] = 50\n",
        "args[\"learning_rate\"] = 0.001\n",
        "args[\"data_augmentation\"] = False\n",
        "args[\"cutout\"] = True\n",
        "args[\"n_holes\"] = 1\n",
        "args[\"length\"] = 20\n",
        "args[\"no_cuda\"] = False\n",
        "args[\"seed\"] = 0\n",
        "\n",
        "args[\"cuda\"] = not args[\"no_cuda\"] and torch.cuda.is_available()\n",
        "cudnn.benchmark = True  \n",
        "\n",
        "torch.manual_seed(args[\"seed\"])\n",
        "if args[\"cuda\"]:\n",
        "    torch.cuda.manual_seed(args[\"seed\"])\n",
        "\n",
        "test_id = args[\"dataset\"] + '_' + args[\"model\"]\n",
        "\n",
        "print(args)"
      ],
      "execution_count": null,
      "outputs": [
        {
          "output_type": "stream",
          "text": [
            "{'dataset': 'apple', 'model': 'resnet18', 'num_classes': 4, 'batch_size': 16, 'epochs': 50, 'learning_rate': 0.001, 'data_augmentation': False, 'cutout': True, 'n_holes': 1, 'length': 20, 'no_cuda': False, 'seed': 0, 'cuda': True}\n"
          ],
          "name": "stdout"
        }
      ]
    },
    {
      "cell_type": "markdown",
      "metadata": {
        "id": "v4_qyOmCpsHY"
      },
      "source": [
        "## <h2>4. DataLoader and Transforms<h2>"
      ]
    },
    {
      "cell_type": "markdown",
      "metadata": {
        "id": "I5FGdKR8psHY"
      },
      "source": [
        "### <h3>4.1 Cutout Regularization</h3>"
      ]
    },
    {
      "cell_type": "code",
      "metadata": {
        "id": "yZvLlQc2psHY"
      },
      "source": [
        "class Cutout(object):\n",
        "    \"\"\"Randomly mask out one or more patches from an image.\n",
        "\n",
        "    Args:\n",
        "        n_holes (int): Number of patches to cut out of each image.\n",
        "        length (int): The length (in pixels) of each square patch.\n",
        "    \"\"\"\n",
        "    def __init__(self, n_holes, length):\n",
        "        self.n_holes = n_holes\n",
        "        self.length = length\n",
        "\n",
        "    def __call__(self, img):\n",
        "        \"\"\"\n",
        "        Args:\n",
        "            img (Tensor): Tensor image of size (C, H, W).\n",
        "        Returns:\n",
        "            Tensor: Image with n_holes of dimension length x length cut out of it.\n",
        "        \"\"\"\n",
        "        \n",
        "        h = img.size(1)\n",
        "        w = img.size(2)\n",
        "\n",
        "        mask = np.ones((h, w), np.float32)\n",
        "\n",
        "        for n in range(self.n_holes):\n",
        "            y = np.random.randint(h)\n",
        "            x = np.random.randint(w)\n",
        "\n",
        "            y1 = np.clip(y - self.length // 2, 0, h)\n",
        "            y2 = np.clip(y + self.length // 2, 0, h)\n",
        "            x1 = np.clip(x - self.length // 2, 0, w)\n",
        "            x2 = np.clip(x + self.length // 2, 0, w)\n",
        "\n",
        "            mask[y1: y2, x1: x2] = 0.\n",
        "\n",
        "        mask = torch.from_numpy(mask)\n",
        "        mask = mask.expand_as(img)\n",
        "        img = img * mask\n",
        "        \n",
        "        return img"
      ],
      "execution_count": null,
      "outputs": []
    },
    {
      "cell_type": "markdown",
      "metadata": {
        "id": "4qMpRCUEpsHY"
      },
      "source": [
        "### <h3>4.2 Transform for Train Dataset</h3>"
      ]
    },
    {
      "cell_type": "code",
      "metadata": {
        "id": "JpAqaBEDpsHZ"
      },
      "source": [
        "def get_train_transform(cutout_length):\n",
        "  normalize_train = transforms.Normalize(mean = [0.4066, 0.5148, 0.3226],\n",
        "                                      std=[0.2011, 0.1875, 0.1882])\n",
        "\n",
        "  train_transform = transforms.Compose([])\n",
        "\n",
        "  if args[\"data_augmentation\"]:\n",
        "      train_transform.transforms.append(transforms.RandomHorizontalFlip())\n",
        "\n",
        "  train_transform.transforms.append(transforms.Resize((224,224)))\n",
        "  train_transform.transforms.append(transforms.ToTensor())\n",
        "  train_transform.transforms.append(normalize_train)\n",
        "\n",
        "\n",
        "  if args[\"cutout\"]:\n",
        "      train_transform.transforms.append(Cutout(n_holes=args[\"n_holes\"], length=cutout_length))\n",
        "\n",
        "  return train_transform\n"
      ],
      "execution_count": null,
      "outputs": []
    },
    {
      "cell_type": "code",
      "metadata": {
        "id": "L9BFxkj7G6vH"
      },
      "source": [
        "train_trans = get_train_transform(args[\"length\"])"
      ],
      "execution_count": null,
      "outputs": []
    },
    {
      "cell_type": "markdown",
      "metadata": {
        "id": "-iYn6AvIpsHZ"
      },
      "source": [
        "### <h3>4.3 Transform for Test Dataset</h3>"
      ]
    },
    {
      "cell_type": "code",
      "metadata": {
        "id": "fi68VKd1psHZ"
      },
      "source": [
        "def get_test_transform():\n",
        "  normalize_test = transforms.Normalize(mean = [0.4047, 0.5141, 0.3240],\n",
        "                                     std=[0.2019, 0.1883, 0.1881])\n",
        "\n",
        "  test_transform = transforms.Compose([])\n",
        "  test_transform.transforms.append(transforms.Resize((224,224)))\n",
        "  test_transform.transforms.append(transforms.ToTensor())\n",
        "  test_transform.transforms.append(normalize_test)\n",
        "\n",
        "  return test_transform"
      ],
      "execution_count": null,
      "outputs": []
    },
    {
      "cell_type": "code",
      "metadata": {
        "id": "D1wIoakKHCmY"
      },
      "source": [
        "valid_trans = get_test_transform()"
      ],
      "execution_count": null,
      "outputs": []
    },
    {
      "cell_type": "markdown",
      "metadata": {
        "id": "oMgkaLV2psHa"
      },
      "source": [
        "### <h3>4.4 Create Data Loader</h3>"
      ]
    },
    {
      "cell_type": "code",
      "metadata": {
        "id": "_KPxZxNtpsHa"
      },
      "source": [
        "train_set = MyDataset(csv_file=\"Apple_Leaf_Disease/train_data.csv\",root_dir=\"Apple_Leaf_Disease/images/\",transform=train_trans)\n",
        "valid_set = MyDataset(csv_file=\"Apple_Leaf_Disease/test_data.csv\",root_dir=\"Apple_Leaf_Disease/images/\",transform=valid_trans)\n",
        "\n",
        "        \n",
        "train_loader = DataLoader(train_set, batch_size=args[\"batch_size\"],shuffle=True)\n",
        "test_loader = DataLoader(valid_set, batch_size=args[\"batch_size\"], shuffle=False)\n",
        "\n",
        "dataset_sizes = {\n",
        "    'train': len(train_loader.dataset), \n",
        "    'valid': len(test_loader.dataset)\n",
        "}"
      ],
      "execution_count": null,
      "outputs": []
    },
    {
      "cell_type": "markdown",
      "metadata": {
        "id": "cFsHdY6wpsHa"
      },
      "source": [
        "## <h2>5. MODELS</h2>"
      ]
    },
    {
      "cell_type": "markdown",
      "metadata": {
        "id": "n0e9TmM4psHa"
      },
      "source": [
        "### <h3>5.1 Test Resnet working</h3>"
      ]
    },
    {
      "cell_type": "code",
      "metadata": {
        "colab": {
          "base_uri": "https://localhost:8080/",
          "referenced_widgets": [
            "a0dd54365de848548d58b22cf392085f",
            "76e75517f1114e71b4590214f0515908",
            "b7a172b0ab2e43e0b99142ff3f375a08",
            "fe5fe5ed8f644eaf928566b28ff40cc7",
            "36db3cb538d240ae9ffc159f93000ed7",
            "e934000cfad044ca839e336814bee108",
            "4253eda31fcd4904882d618b053d1f8e",
            "6e19010c3b59439b9d2f1c3f1eae5a21"
          ]
        },
        "id": "k8bX_haqpsHa",
        "outputId": "91132334-6e4c-4a29-e3d0-6e9126c8bda6"
      },
      "source": [
        "use_gpu = torch.cuda.is_available()\n",
        "\n",
        "resnet_18_model = models.resnet18(pretrained=True)\n",
        "inputs, labels = next(iter(test_loader))\n",
        "if use_gpu:\n",
        "    resnet_18_model = resnet_18_model.cuda()\n",
        "    inputs, labels = Variable(inputs.cuda()), Variable(labels.cuda())   \n",
        "else:\n",
        "    inputs, labels = Variable(inputs), Variable(labels)\n",
        "outputs = resnet_18_model(inputs)\n",
        "outputs.size()"
      ],
      "execution_count": null,
      "outputs": [
        {
          "output_type": "stream",
          "text": [
            "Downloading: \"https://download.pytorch.org/models/resnet18-5c106cde.pth\" to /root/.cache/torch/hub/checkpoints/resnet18-5c106cde.pth\n"
          ],
          "name": "stderr"
        },
        {
          "output_type": "display_data",
          "data": {
            "application/vnd.jupyter.widget-view+json": {
              "model_id": "a0dd54365de848548d58b22cf392085f",
              "version_minor": 0,
              "version_major": 2
            },
            "text/plain": [
              "HBox(children=(FloatProgress(value=0.0, max=46827520.0), HTML(value='')))"
            ]
          },
          "metadata": {
            "tags": []
          }
        },
        {
          "output_type": "stream",
          "text": [
            "\n"
          ],
          "name": "stdout"
        },
        {
          "output_type": "execute_result",
          "data": {
            "text/plain": [
              "torch.Size([16, 1000])"
            ]
          },
          "metadata": {
            "tags": []
          },
          "execution_count": 19
        }
      ]
    },
    {
      "cell_type": "markdown",
      "metadata": {
        "id": "EjzifAVMpsHb"
      },
      "source": [
        "### <h3>5.2 Create Model</h3>"
      ]
    },
    {
      "cell_type": "code",
      "metadata": {
        "colab": {
          "base_uri": "https://localhost:8080/"
        },
        "id": "_dFePgtMpsHb",
        "outputId": "703b4970-78d2-486d-8f1d-7068e4cc368e"
      },
      "source": [
        "cnn = models.resnet18(pretrained=True)\n",
        "args[\"num_classes\"] = 4\n",
        "# freeze all model parameters\n",
        "for param in cnn.parameters():\n",
        "    param.requires_grad = False\n",
        "\n",
        "# New final layer with 4 classes\n",
        "num_ftrs = cnn.fc.in_features\n",
        "cnn.fc = nn.Linear(num_ftrs,args[\"num_classes\"])\n",
        "\n",
        "if use_gpu:\n",
        "    cnn = cnn.cuda()\n",
        "\n",
        "device = torch.device('cuda' if torch.cuda.is_available() else 'cpu')\n",
        "\n",
        "bs = 64\n",
        "test_dl = DataLoader(valid_set, batch_size=bs,shuffle=False)\n",
        "\n",
        "print(\"Done - Configure Model\")"
      ],
      "execution_count": null,
      "outputs": [
        {
          "output_type": "stream",
          "text": [
            "Done - Configure Model\n"
          ],
          "name": "stdout"
        }
      ]
    },
    {
      "cell_type": "markdown",
      "metadata": {
        "id": "UAJcAx0F9stq"
      },
      "source": [
        "## <h2>6. Unfreeze</h2>"
      ]
    },
    {
      "cell_type": "code",
      "metadata": {
        "colab": {
          "base_uri": "https://localhost:8080/"
        },
        "id": "R7nXCf5y9xIm",
        "outputId": "732daacd-8d71-434d-e140-083f8695f4a4"
      },
      "source": [
        "for name, child in cnn.named_children():\n",
        "    if name in ['layer3', 'layer4','avgpool','fc']:\n",
        "        print(name + ' is unfrozen')\n",
        "        for param in child.parameters():\n",
        "            param.requires_grad = True\n",
        "    else:\n",
        "        print(name + ' is frozen')\n",
        "        for param in child.parameters():\n",
        "            param.requires_grad = False"
      ],
      "execution_count": null,
      "outputs": [
        {
          "output_type": "stream",
          "text": [
            "conv1 is frozen\n",
            "bn1 is frozen\n",
            "relu is frozen\n",
            "maxpool is frozen\n",
            "layer1 is frozen\n",
            "layer2 is frozen\n",
            "layer3 is unfrozen\n",
            "layer4 is unfrozen\n",
            "avgpool is unfrozen\n",
            "fc is unfrozen\n"
          ],
          "name": "stdout"
        }
      ]
    },
    {
      "cell_type": "markdown",
      "metadata": {
        "id": "H15_nwbyHr1d"
      },
      "source": [
        "## 7.Bayesian Optimization"
      ]
    },
    {
      "cell_type": "code",
      "metadata": {
        "id": "VdEFVOUZHn7f"
      },
      "source": [
        "loss_func = nn.CrossEntropyLoss().cuda()\r\n",
        "# cnn_optimizer = torch.optim.SGD(cnn.parameters(), lr=args[\"learning_rate\"],\r\n",
        "#                                 momentum=0.9, nesterov=True, weight_decay=5e-4)\r\n",
        "\r\n",
        "def accuracy(out, yb):\r\n",
        "    preds = torch.argmax(out, dim=1)\r\n",
        "    return (preds == yb).float().mean()"
      ],
      "execution_count": null,
      "outputs": []
    },
    {
      "cell_type": "code",
      "metadata": {
        "id": "yIlC6tI9Hn92"
      },
      "source": [
        "def get_model_accuracy():\r\n",
        "    tot_acc = 0\r\n",
        "    avg_acc = 0\r\n",
        "  \r\n",
        "    # Set model to evaluation mode\r\n",
        "    cnn.eval()\r\n",
        "\r\n",
        "    for xbt, ybt in test_dl:\r\n",
        "\r\n",
        "        pred = cnn(xbt.to(device))\r\n",
        "        tot_acc += accuracy(pred,ybt.to(device))\r\n",
        "\r\n",
        "    avg_acc = tot_acc / len(test_dl)\r\n",
        "  \r\n",
        "    return avg_acc.item()\r\n",
        "\r\n",
        "\r\n",
        "# Print accuracy of model\r\n",
        "# print(\"The average accuracy is: \" + str(get_model_accuracy()))"
      ],
      "execution_count": null,
      "outputs": []
    },
    {
      "cell_type": "code",
      "metadata": {
        "id": "uIk4qDEDHoAi"
      },
      "source": [
        "def obj_func(lr,bs,epochs):\r\n",
        "      \r\n",
        "      # ,\r\n",
        "      # We need to round off bs and epochs because Gaussian processes cannot deal with discrete variables \r\n",
        "      # cutout_len\r\n",
        "    bs = int(bs)\r\n",
        "    epochs = int(epochs)\r\n",
        "\r\n",
        "    train_trans = get_train_transform(int(20))\r\n",
        "\r\n",
        "    train_set = MyDataset(csv_file=\"imag_data/train_data.csv\",root_dir=\"imag_data/images\",transform=train_trans)\r\n",
        "    valid_set = MyDataset(csv_file=\"imag_data/test_data.csv\",root_dir=\"imag_data/images\",transform=valid_trans)\r\n",
        "\r\n",
        "    train_dl = DataLoader(train_set, batch_size=bs,shuffle=True)\r\n",
        "    test_dl = DataLoader(valid_set, batch_size=bs, shuffle=False)\r\n",
        "      \r\n",
        "    optim = Adam(cnn.parameters(), lr = lr)\r\n",
        "      \r\n",
        "    for epoch in range(epochs):\r\n",
        "    \r\n",
        "        for xb, yb in train_dl:\r\n",
        "        \r\n",
        "            # .to(device) moves torch.Tensor objects to the GPU for faster training\r\n",
        "        \r\n",
        "            preds = cnn(xb.to(device))\r\n",
        "            loss = loss_func(preds, yb.to(device))\r\n",
        "            acc = accuracy(preds,yb.to(device))\r\n",
        "        \r\n",
        "            loss.backward()\r\n",
        "            optim.step()\r\n",
        "            optim.zero_grad()\r\n",
        "        \r\n",
        "        print(\"Train Loss: \" + str(loss.item()) + \"\\t \\t Train Accuracy: \" + str(100 * acc.item()))\r\n",
        "\r\n",
        "    acc = get_model_accuracy()\r\n",
        "      \r\n",
        "    return acc"
      ],
      "execution_count": null,
      "outputs": []
    },
    {
      "cell_type": "code",
      "metadata": {
        "colab": {
          "base_uri": "https://localhost:8080/"
        },
        "id": "y4aYNdjNHoC9",
        "outputId": "294fb77e-b32a-4fdd-8431-2e9dd1bb5d11"
      },
      "source": [
        "from bayes_opt import BayesianOptimization\r\n",
        "# ,'cutout_len':(16,18) \r\n",
        "# Bounded region of parameter space\r\n",
        "pbounds = {'lr': (1e-4,1e-2), 'bs': (16,64), 'epochs': (5,35)}\r\n",
        "\r\n",
        "optimizer = BayesianOptimization(\r\n",
        "    f=obj_func,\r\n",
        "    pbounds=pbounds,\r\n",
        "    verbose=2, # verbose = 1 prints only when a maximum is observed, verbose = 0 is silent\r\n",
        "    random_state=1,\r\n",
        ")\r\n",
        "\r\n",
        "optimizer.maximize(init_points=2, n_iter=3)\r\n",
        "\r\n",
        "print(optimizer.max)"
      ],
      "execution_count": null,
      "outputs": [
        {
          "output_type": "stream",
          "text": [
            "|   iter    |  target   |    bs     |  epochs   |    lr     |\n",
            "-------------------------------------------------------------\n",
            "Train Loss: 0.2566125988960266\t \t Train Accuracy: 93.1034505367279\n",
            "Train Loss: 0.0347820445895195\t \t Train Accuracy: 100.0\n",
            "Train Loss: 0.019810913130640984\t \t Train Accuracy: 100.0\n",
            "Train Loss: 0.006951387971639633\t \t Train Accuracy: 100.0\n",
            "Train Loss: 0.003017653711140156\t \t Train Accuracy: 100.0\n",
            "Train Loss: 0.011205000802874565\t \t Train Accuracy: 100.0\n",
            "Train Loss: 0.0067965504713356495\t \t Train Accuracy: 100.0\n",
            "Train Loss: 0.003502955660223961\t \t Train Accuracy: 100.0\n",
            "Train Loss: 0.00544823007658124\t \t Train Accuracy: 100.0\n",
            "Train Loss: 0.0010539169888943434\t \t Train Accuracy: 100.0\n",
            "Train Loss: 0.00966668501496315\t \t Train Accuracy: 100.0\n",
            "Train Loss: 0.0016532527515664697\t \t Train Accuracy: 100.0\n",
            "Train Loss: 0.0007479946361854672\t \t Train Accuracy: 100.0\n",
            "Train Loss: 0.007178615778684616\t \t Train Accuracy: 100.0\n",
            "Train Loss: 0.04759089648723602\t \t Train Accuracy: 96.55172228813171\n",
            "Train Loss: 0.003134962636977434\t \t Train Accuracy: 100.0\n",
            "Train Loss: 0.008441681042313576\t \t Train Accuracy: 100.0\n",
            "Train Loss: 0.060436006635427475\t \t Train Accuracy: 96.55172228813171\n",
            "Train Loss: 0.0018365915166214108\t \t Train Accuracy: 100.0\n",
            "Train Loss: 0.014577441848814487\t \t Train Accuracy: 100.0\n",
            "Train Loss: 0.11054913699626923\t \t Train Accuracy: 93.1034505367279\n",
            "Train Loss: 0.001361470203846693\t \t Train Accuracy: 100.0\n",
            "Train Loss: 0.0010959079954773188\t \t Train Accuracy: 100.0\n",
            "Train Loss: 0.0005909014726057649\t \t Train Accuracy: 100.0\n",
            "Train Loss: 0.00043668822036124766\t \t Train Accuracy: 100.0\n",
            "Train Loss: 0.0006468052160926163\t \t Train Accuracy: 100.0\n",
            "| \u001b[0m 1       \u001b[0m | \u001b[0m 0.9109  \u001b[0m | \u001b[0m 36.02   \u001b[0m | \u001b[0m 26.61   \u001b[0m | \u001b[0m 0.000101\u001b[0m |\n",
            "Train Loss: 1.3323949575424194\t \t Train Accuracy: 20.68965435028076\n",
            "Train Loss: 1.2319483757019043\t \t Train Accuracy: 44.82758641242981\n",
            "Train Loss: 1.1018201112747192\t \t Train Accuracy: 48.27586114406586\n",
            "Train Loss: 1.1577190160751343\t \t Train Accuracy: 44.82758641242981\n",
            "Train Loss: 1.3305023908615112\t \t Train Accuracy: 34.48275923728943\n",
            "Train Loss: 1.3018755912780762\t \t Train Accuracy: 27.586206793785095\n",
            "Train Loss: 1.281644582748413\t \t Train Accuracy: 34.48275923728943\n",
            "Train Loss: 1.291897177696228\t \t Train Accuracy: 31.034481525421143\n",
            "Train Loss: 1.26166832447052\t \t Train Accuracy: 34.48275923728943\n",
            "| \u001b[0m 2       \u001b[0m | \u001b[0m 0.3507  \u001b[0m | \u001b[0m 30.51   \u001b[0m | \u001b[0m 9.403   \u001b[0m | \u001b[0m 0.001014\u001b[0m |\n",
            "Train Loss: 1.3577535152435303\t \t Train Accuracy: 24.13793057203293\n",
            "Train Loss: 1.2783191204071045\t \t Train Accuracy: 51.724135875701904\n",
            "Train Loss: 4.791261196136475\t \t Train Accuracy: 48.27586114406586\n",
            "Train Loss: 1.1927175521850586\t \t Train Accuracy: 34.48275923728943\n",
            "Train Loss: 1.1748723983764648\t \t Train Accuracy: 58.62069129943848\n",
            "Train Loss: 1.2132296562194824\t \t Train Accuracy: 44.82758641242981\n",
            "Train Loss: 1.2739126682281494\t \t Train Accuracy: 34.48275923728943\n",
            "Train Loss: 1.235106348991394\t \t Train Accuracy: 48.27586114406586\n",
            "Train Loss: 1.2539693117141724\t \t Train Accuracy: 34.48275923728943\n",
            "Train Loss: 1.249068021774292\t \t Train Accuracy: 51.724135875701904\n",
            "Train Loss: 1.2278978824615479\t \t Train Accuracy: 41.37930870056152\n",
            "Train Loss: 1.3281322717666626\t \t Train Accuracy: 37.931033968925476\n",
            "Train Loss: 1.1638679504394531\t \t Train Accuracy: 51.724135875701904\n",
            "Train Loss: 1.1735272407531738\t \t Train Accuracy: 41.37930870056152\n",
            "Train Loss: 1.2901372909545898\t \t Train Accuracy: 37.931033968925476\n",
            "Train Loss: 1.134037971496582\t \t Train Accuracy: 41.37930870056152\n",
            "Train Loss: 1.295100450515747\t \t Train Accuracy: 34.48275923728943\n",
            "Train Loss: 1.2307049036026\t \t Train Accuracy: 37.931033968925476\n",
            "Train Loss: 1.2632591724395752\t \t Train Accuracy: 27.586206793785095\n",
            "Train Loss: 1.2239741086959839\t \t Train Accuracy: 27.586206793785095\n",
            "Train Loss: 1.0995219945907593\t \t Train Accuracy: 44.82758641242981\n",
            "Train Loss: 1.2708791494369507\t \t Train Accuracy: 37.931033968925476\n",
            "Train Loss: 1.3220456838607788\t \t Train Accuracy: 44.82758641242981\n",
            "Train Loss: 1.2583998441696167\t \t Train Accuracy: 24.13793057203293\n",
            "Train Loss: 1.2128450870513916\t \t Train Accuracy: 27.586206793785095\n",
            "Train Loss: 1.270398497581482\t \t Train Accuracy: 37.931033968925476\n",
            "| \u001b[0m 3       \u001b[0m | \u001b[0m 0.3507  \u001b[0m | \u001b[0m 36.24   \u001b[0m | \u001b[0m 26.86   \u001b[0m | \u001b[0m 0.005827\u001b[0m |\n",
            "Train Loss: 1.1791666746139526\t \t Train Accuracy: 37.931033968925476\n",
            "Train Loss: 1.110289216041565\t \t Train Accuracy: 51.724135875701904\n",
            "Train Loss: 1.1993693113327026\t \t Train Accuracy: 37.931033968925476\n",
            "Train Loss: 1.2244901657104492\t \t Train Accuracy: 27.586206793785095\n",
            "Train Loss: 1.1767358779907227\t \t Train Accuracy: 48.27586114406586\n",
            "Train Loss: 1.2145435810089111\t \t Train Accuracy: 34.48275923728943\n",
            "Train Loss: 1.3865656852722168\t \t Train Accuracy: 34.48275923728943\n",
            "Train Loss: 1.301314115524292\t \t Train Accuracy: 24.13793057203293\n",
            "Train Loss: 1.144680142402649\t \t Train Accuracy: 41.37930870056152\n",
            "Train Loss: 1.3058165311813354\t \t Train Accuracy: 27.586206793785095\n",
            "Train Loss: 1.325997233390808\t \t Train Accuracy: 41.37930870056152\n",
            "Train Loss: 1.2754826545715332\t \t Train Accuracy: 34.48275923728943\n",
            "Train Loss: 1.1892039775848389\t \t Train Accuracy: 37.931033968925476\n",
            "Train Loss: 1.2450345754623413\t \t Train Accuracy: 41.37930870056152\n",
            "Train Loss: 1.4069361686706543\t \t Train Accuracy: 27.586206793785095\n",
            "Train Loss: 1.2500497102737427\t \t Train Accuracy: 37.931033968925476\n",
            "Train Loss: 1.3437308073043823\t \t Train Accuracy: 13.793103396892548\n",
            "Train Loss: 1.3257726430892944\t \t Train Accuracy: 34.48275923728943\n",
            "Train Loss: 1.2405279874801636\t \t Train Accuracy: 24.13793057203293\n",
            "Train Loss: 1.178096890449524\t \t Train Accuracy: 24.13793057203293\n",
            "Train Loss: 1.3207226991653442\t \t Train Accuracy: 31.034481525421143\n",
            "Train Loss: 1.2353321313858032\t \t Train Accuracy: 27.586206793785095\n",
            "Train Loss: 1.2663626670837402\t \t Train Accuracy: 41.37930870056152\n",
            "Train Loss: 1.1487888097763062\t \t Train Accuracy: 44.82758641242981\n",
            "Train Loss: 1.2699041366577148\t \t Train Accuracy: 31.034481525421143\n",
            "| \u001b[0m 4       \u001b[0m | \u001b[0m 0.3507  \u001b[0m | \u001b[0m 35.28   \u001b[0m | \u001b[0m 25.89   \u001b[0m | \u001b[0m 0.001704\u001b[0m |\n",
            "Train Loss: 1.401757836341858\t \t Train Accuracy: 20.68965435028076\n",
            "Train Loss: 1.121092677116394\t \t Train Accuracy: 44.82758641242981\n",
            "Train Loss: 1.1895736455917358\t \t Train Accuracy: 44.82758641242981\n",
            "Train Loss: 1.2905772924423218\t \t Train Accuracy: 37.931033968925476\n",
            "Train Loss: 1.2547080516815186\t \t Train Accuracy: 31.034481525421143\n",
            "Train Loss: 1.1932611465454102\t \t Train Accuracy: 44.82758641242981\n",
            "Train Loss: 1.364000916481018\t \t Train Accuracy: 31.034481525421143\n",
            "Train Loss: 1.1881141662597656\t \t Train Accuracy: 31.034481525421143\n",
            "Train Loss: 1.1257582902908325\t \t Train Accuracy: 41.37930870056152\n",
            "Train Loss: 1.253799319267273\t \t Train Accuracy: 27.586206793785095\n",
            "Train Loss: 1.2209570407867432\t \t Train Accuracy: 41.37930870056152\n",
            "Train Loss: 1.085015892982483\t \t Train Accuracy: 55.17241358757019\n",
            "Train Loss: 1.202144980430603\t \t Train Accuracy: 44.82758641242981\n",
            "Train Loss: 1.2817010879516602\t \t Train Accuracy: 41.37930870056152\n",
            "Train Loss: 1.185413122177124\t \t Train Accuracy: 41.37930870056152\n",
            "Train Loss: 1.3415989875793457\t \t Train Accuracy: 44.82758641242981\n",
            "Train Loss: 1.1898157596588135\t \t Train Accuracy: 37.931033968925476\n",
            "Train Loss: 1.2809326648712158\t \t Train Accuracy: 17.241379618644714\n",
            "Train Loss: 1.2272896766662598\t \t Train Accuracy: 51.724135875701904\n",
            "Train Loss: 1.268996000289917\t \t Train Accuracy: 31.034481525421143\n",
            "Train Loss: 1.434130311012268\t \t Train Accuracy: 51.724135875701904\n",
            "Train Loss: 1.1848869323730469\t \t Train Accuracy: 41.37930870056152\n",
            "Train Loss: 1.3519504070281982\t \t Train Accuracy: 48.27586114406586\n",
            "Train Loss: 1.2976713180541992\t \t Train Accuracy: 41.37930870056152\n",
            "Train Loss: 1.2246332168579102\t \t Train Accuracy: 34.48275923728943\n",
            "| \u001b[0m 5       \u001b[0m | \u001b[0m 0.3507  \u001b[0m | \u001b[0m 36.83   \u001b[0m | \u001b[0m 25.46   \u001b[0m | \u001b[0m 0.008243\u001b[0m |\n",
            "=============================================================\n",
            "{'target': 0.9109375476837158, 'params': {'bs': 36.01705622572355, 'epochs': 26.609734803264743, 'lr': 0.00010113231069171439}}\n"
          ],
          "name": "stdout"
        }
      ]
    },
    {
      "cell_type": "code",
      "metadata": {
        "id": "IqCl5gWzH6SG"
      },
      "source": [
        ""
      ],
      "execution_count": null,
      "outputs": []
    },
    {
      "cell_type": "code",
      "metadata": {
        "id": "-sF-StV-H6aD"
      },
      "source": [
        ""
      ],
      "execution_count": null,
      "outputs": []
    }
  ]
}